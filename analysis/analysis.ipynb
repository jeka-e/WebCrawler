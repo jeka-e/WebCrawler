{
 "cells": [
  {
   "cell_type": "code",
   "execution_count": 1,
   "metadata": {},
   "outputs": [],
   "source": [
    "import os\n",
    "import json\n",
    "from urllib.parse import urlparse\n",
    "import seaborn as sns\n",
    "import matplotlib.pyplot as plt\n",
    "from collections import Counter, defaultdict\n",
    "from tld import get_fld\n",
    "import pandas as pd\n",
    "from IPython.display import display\n",
    "from collections import Counter, defaultdict\n",
    "import dns.resolver\n",
    "import tldextract"
   ]
  },
  {
   "cell_type": "markdown",
   "metadata": {},
   "source": [
    "# PREP"
   ]
  },
  {
   "cell_type": "code",
   "execution_count": 2,
   "metadata": {},
   "outputs": [],
   "source": [
    "# 3 - table for most prevalent domains + isTracker\n",
    "def get_tracking_domains_list():\n",
    "    with open('disconnect-tracking-services.json', 'r') as f:\n",
    "        tracking_services = json.load(f)\n",
    "\n",
    "    all_tracker_domains = set()\n",
    "    for category in tracking_services['categories'].values():\n",
    "        for org in category:\n",
    "            for url in org.values():\n",
    "                for domains in url.values():\n",
    "                    all_tracker_domains.update(domains)\n",
    "    return list(all_tracker_domains)\n",
    "\n",
    "TRACKING_DOMAINS = get_tracking_domains_list()\n",
    "PERMISSIONS = [\n",
    "    \"accelerometer\",\n",
    "    \"ambient-light-sensor\",\n",
    "    \"attribution-reporting\",\n",
    "    \"autoplay\",\n",
    "    \"bluetooth\",\n",
    "    \"browsing-topics\",\n",
    "    \"camera\",\n",
    "    \"compute-pressure\",\n",
    "    \"cross-origin-isolated\",\n",
    "    \"display-capture\",\n",
    "    \"document-domain\",\n",
    "    \"encrypted-media\",\n",
    "    \"fullscreen\",\n",
    "    \"geolocation\",\n",
    "    \"gyroscope\",\n",
    "    \"hid\",\n",
    "    \"identity-credentials-get\",\n",
    "    \"idle-detection\",\n",
    "    \"local-fonts\",\n",
    "    \"magnetometer\",\n",
    "    \"microphone\",\n",
    "    \"midi\",\n",
    "    \"otp-credentials\",\n",
    "    \"payment\",\n",
    "    \"picture-in-picture\",\n",
    "    \"publickey-credentials-create\",\n",
    "    \"publickey-credentials-get\",\n",
    "    \"screen-wake-lock\",\n",
    "    \"serial\",\n",
    "    \"storage-access\",\n",
    "    \"usb\",\n",
    "    \"web-share\",\n",
    "    \"window-management\",\n",
    "    \"xr-spatial-tracking\"\n",
    "]\n"
   ]
  },
  {
   "cell_type": "markdown",
   "metadata": {},
   "source": [
    "# EXTRACT ALL NECESSARY DATA FROM HAR FILES IN ONE ITERATION"
   ]
  },
  {
   "cell_type": "markdown",
   "metadata": {},
   "source": [
    "## Helpers"
   ]
  },
  {
   "cell_type": "code",
   "execution_count": 66,
   "metadata": {},
   "outputs": [],
   "source": [
    "RESPONSE_CODES = [301,308,302,303,307]\n",
    "\n",
    "def get_all_info_from_entries(entries, filename, all_redirection_pairs):  # gov_domain was acm from acm.nl (split(.)), is it ok to use acm.nl and split(_)? TODO\n",
    "\t# for 1, 2, 3\n",
    "\tdistinct_third_party_domains = {}\n",
    "\tnum_third_party_requests = 0\n",
    "\n",
    "\t# for 4\n",
    "\tnum_get_reqs = 0\n",
    "\tnum_post_reqs = 0\n",
    "\tnum_other_reqs = 0\n",
    "\n",
    "\t# for 5\n",
    "\tdisabled_permissions_per_url = set()\n",
    "\n",
    "\t# for 6\n",
    "\treferrers_per_url = set()\n",
    "\n",
    "\t# for 7\n",
    "\taccept_ch_hints = {}\n",
    "\tvisited_hints_in_website = []\n",
    "\n",
    "\t# for 9\n",
    "\tfirst_party_subdomains = set()\n",
    "\n",
    "\tfor entry in entries:\n",
    "\t\t# for 1, 2, 3 \n",
    "\t\tnum_third_party_requests, distinct_third_party_domains = get_third_party_domain_counts(entry, filename, distinct_third_party_domains, num_third_party_requests)\n",
    "\t\t\n",
    "\t\t# for 4\n",
    "\t\tif entry['request']['method'] == \"GET\":\n",
    "\t\t\tnum_get_reqs += 1\n",
    "\t\telif entry['request']['method'] == \"POST\":\n",
    "\t\t\tnum_post_reqs += 1\n",
    "\t\telse:\n",
    "\t\t\tnum_other_reqs += 1\n",
    "\n",
    "\t\t# 5 permissions policy\n",
    "\t\tdisabled_permissions = analyze_permissions_policy(entry, filename)\n",
    "\t\tdisabled_permissions_per_url.update(disabled_permissions)\n",
    "\n",
    "\t\t# 6 referrer policy\n",
    "\t\tentry_policy = analyze_referrer_policy(entry, filename)\n",
    "\t\tif entry_policy:\n",
    "\t\t\treferrers_per_url.add(entry_policy)\n",
    "\n",
    "\t\t# 7 - ch header\n",
    "\t\taccept_ch_hints, visited_hints_in_website = get_accept_ch_header_requests(entry, accept_ch_hints, visited_hints_in_website)\n",
    "\n",
    "\t\t# 8 - cross-domain redirections\n",
    "\t\tif entry['response']['status'] in RESPONSE_CODES:\n",
    "\t\t\tsource = get_fld(entry['request']['url'])\n",
    "\t\t\ttarget = get_fld(entry['response']['redirectURL'])\n",
    "\t\t\t\n",
    "\t\t\tif is_cross_domain(source, target):\n",
    "\t\t\t\tall_redirection_pairs[(source, target)].add(filename)\n",
    "         \n",
    "\t\t# 9 - CNAME\n",
    "\t\t# main_domain = \"ad.nl\"  # TODO  why ? for gov ad.nl,  different for news?\n",
    "\t\t# main_domain = filename.split('_')[0]\n",
    "\t\trequest_url = entry[\"request\"][\"url\"]\n",
    "\t\thostname = urlparse(request_url).hostname\n",
    "\t\tif hostname and hostname != filename:\n",
    "\t\t\tdomain = get_fld(request_url, fail_silently=True)\n",
    "\t\t\tif domain == filename:\n",
    "\t\t\t\tfirst_party_subdomains.add(hostname)\n",
    "\n",
    "\treturn (\n",
    "        num_third_party_requests, \n",
    "        distinct_third_party_domains, \n",
    "        num_get_reqs, \n",
    "        num_post_reqs, \n",
    "        num_other_reqs, \n",
    "        accept_ch_hints,\n",
    "        all_redirection_pairs,\n",
    "\t\tfirst_party_subdomains,\n",
    "\t\tdisabled_permissions_per_url,\n",
    "\t\treferrers_per_url\n",
    "        )\n",
    "\n",
    "\n",
    "def is_cross_domain(url1, url2):\n",
    "    return url1 != url2\n",
    "\t\n",
    "\t\n",
    "def get_third_party_domain_counts(entry, gov_domain, distinct_third_party_domains, num_third_party_requests):\n",
    "\turl = entry['request']['url']\n",
    "\thostname = urlparse(url).hostname\n",
    "\tif hostname and gov_domain not in hostname:\n",
    "\t\tnum_third_party_requests += 1\n",
    "\t\ttld_1 = get_fld(url, fail_silently=True)\n",
    "\t\tif tld_1:\n",
    "\t\t\tif tld_1 not in distinct_third_party_domains:\n",
    "\t\t\t\tdistinct_third_party_domains[tld_1] = 0\n",
    "\t\t\telse: \n",
    "\t\t\t\tdistinct_third_party_domains[tld_1] += 1\n",
    "\treturn num_third_party_requests, distinct_third_party_domains\n",
    "\n",
    "\n",
    "def get_accept_ch_header_requests(entry, accept_ch_hints, visited_hints_in_website):\n",
    "\theaders = entry['response']['headers']\n",
    "\tfor header in headers:\n",
    "\t\tif header['name'] == 'accept-ch':\n",
    "\t\t\tclient_hints = header['value'].split(',')\n",
    "\t\t\tfor hint in client_hints:\n",
    "\t\t\t\thint = hint.strip()\n",
    "\t\t\t\tif hint in visited_hints_in_website:\n",
    "\t\t\t\t\tcontinue\n",
    "\t\t\t\taccept_ch_hints[hint] = accept_ch_hints.get(hint, 0) + 1\n",
    "\t\t\t\tvisited_hints_in_website.append(hint)\n",
    "\treturn accept_ch_hints, visited_hints_in_website\n",
    "\n",
    "\n",
    "def analyze_permissions_policy(entry, filename):\n",
    "\trequest_url = entry['request']['url']\n",
    "\tresponse_headers = entry['response']['headers']\n",
    "\tmain_domain = os.path.basename(filename).split('_')[0]\n",
    "\tdisabled_permissions = set()\n",
    "\t\n",
    "\tif main_domain in request_url:  # only for first-party requests\n",
    "\t\tfor header in response_headers:\n",
    "\t\t\tif header['name'].lower() == 'permissions-policy':\n",
    "\t\t\t\tfor permission_setting in header['value'].split(','):\n",
    "\t\t\t\t\tpermission_setting = permission_setting.strip()\n",
    "\t\t\t\t\tfor setting in permission_setting.split(';'):\n",
    "\t\t\t\t\t\tif '=' in setting:\n",
    "\t\t\t\t\t\t\tpermission, policy = setting.split('=')\n",
    "\t\t\t\t\t\t\tpermission = permission.strip()\n",
    "\t\t\t\t\t\t\tpolicy = policy.strip()\n",
    "\t\t\t\t\t\t\tparsed_policy = urlparse(policy).netloc    # if it is specified as url\n",
    "\n",
    "\t\t\t\t\t\t\tif permission in PERMISSIONS:\n",
    "\t\t\t\t\t\t\t\t# Count permissions disabled completely or partially: either ()/none/self or first party url\n",
    "\t\t\t\t\t\t\t\tif policy in ('()', \"'none'\", 'self', ):\n",
    "\t\t\t\t\t\t\t\t\tdisabled_permissions.add(permission)\n",
    "\t\t\t\t\t\t\t\t\n",
    "\t\t\t\t\t\t\t\telif parsed_policy == main_domain:\n",
    "\t\t\t\t\t\t\t\t\tdisabled_permissions.add(permission)\n",
    "\treturn disabled_permissions\n",
    "\n",
    "\n",
    "def analyze_referrer_policy(entry, filename):\n",
    "\tresponse_headers = entry['response']['headers']\n",
    "\tmain_domain = os.path.basename(filename).split('_')[0]\n",
    "\tdisabled_permissions = set()\n",
    "\trequest_url = entry['request']['url']\n",
    "\n",
    "\tif main_domain in request_url:  # only for first-party requests\n",
    "\t\tfor header in response_headers:\n",
    "\t\t\tif header['name'].lower() == 'referrer-policy':\n",
    "\t\t\t\treturn header['value'].lower()\n",
    "\treturn None\n",
    "\n"
   ]
  },
  {
   "cell_type": "markdown",
   "metadata": {},
   "source": [
    "## Main func"
   ]
  },
  {
   "cell_type": "code",
   "execution_count": 67,
   "metadata": {},
   "outputs": [],
   "source": [
    "# ONE BIG FUNC FOR EVERYTHING\n",
    "# gov_dir = '..\\crawl_data_gov'\n",
    "# news_dir = '..\\crawl_data_news'\n",
    "GOV_DIR = '../crawl_data_gov'\n",
    "NEWS_DIR = '../crawl_data_news'\n",
    "EXT = 'har'\n",
    "\n",
    "\n",
    "def get_all_info_form_hars(directory):\n",
    "    all_num_requests = []\n",
    "    all_num_third_party_requests = []\n",
    "    all_distinct_third_party_domains = []\n",
    "    all_distinct_third_parties_count_per_site = []\n",
    "    all_num_get_reqs = 0\n",
    "    all_num_post_reqs = 0\n",
    "    all_num_other_reqs = 0\n",
    "    all_client_hints = []\n",
    "    all_redirection_pairs = defaultdict(set)\n",
    "    all_first_party_subdomains = set()\n",
    "    all_disabled_permissions = {}\n",
    "    all_referrer_policies = {\n",
    "        'same-origin': [],\n",
    "        'no-referrer': [],\n",
    "        'unsafe-url': []\n",
    "    }\n",
    "\n",
    "    for file in os.listdir(directory):\n",
    "        if file.endswith(EXT):\n",
    "            with open(directory + '/' + file, 'r', encoding='utf-8') as har_file:\n",
    "                har_data = json.load(har_file)\n",
    "                entries = har_data['log']['entries']\n",
    "\n",
    "                num_requests = len(entries)\n",
    "                all_num_requests.append(num_requests)\n",
    "                \n",
    "                (\n",
    "                    num_third_party_requests, \n",
    "                    distinct_third_party_domains, \n",
    "                    num_get_reqs, \n",
    "                    num_post_reqs, \n",
    "                    num_other_reqs, \n",
    "                    accept_ch_hints,\n",
    "                    all_redirection_pairs,\n",
    "                    first_party_subdomains, \n",
    "                    disabled_permissions_per_url,\n",
    "                    referrer_policies_per_url) = get_all_info_from_entries(entries, file.split('_')[0], all_redirection_pairs)\n",
    "\n",
    "                all_num_third_party_requests.append(num_third_party_requests)\n",
    "                all_distinct_third_parties_count_per_site.append(len(distinct_third_party_domains))\n",
    "                all_distinct_third_party_domains = dict(Counter(all_distinct_third_party_domains) + Counter(distinct_third_party_domains))                \n",
    "                all_num_get_reqs += num_get_reqs\n",
    "                all_num_post_reqs += num_post_reqs\n",
    "                all_num_other_reqs += num_other_reqs\n",
    "                all_client_hints.append(accept_ch_hints)\n",
    "                all_first_party_subdomains.update(first_party_subdomains)\n",
    "                for permission in disabled_permissions_per_url:\n",
    "                    if permission in all_disabled_permissions:\n",
    "                        all_disabled_permissions[permission] += 1\n",
    "                    else:\n",
    "                        all_disabled_permissions[permission] = 1\n",
    "\n",
    "                for policy in referrer_policies_per_url:\n",
    "                    if policy in all_referrer_policies:\n",
    "                        all_referrer_policies[policy].append(file.split('_')[0])\n",
    "\n",
    "\n",
    "    return (\n",
    "        all_num_requests, \n",
    "        all_num_third_party_requests, \n",
    "        all_distinct_third_party_domains,\n",
    "        all_distinct_third_parties_count_per_site,\n",
    "        all_num_get_reqs, \n",
    "        all_num_post_reqs, \n",
    "        all_num_other_reqs, \n",
    "        all_client_hints,\n",
    "        all_redirection_pairs, \n",
    "        all_first_party_subdomains,\n",
    "        all_disabled_permissions,\n",
    "        all_referrer_policies\n",
    "    )\n"
   ]
  },
  {
   "cell_type": "code",
   "execution_count": 68,
   "metadata": {},
   "outputs": [],
   "source": [
    "(\n",
    "    num_requests_gov, \n",
    "    num_third_party_requests_gov, \n",
    "    distinct_third_party_domains_gov, \n",
    "    distinct_third_parties_count_per_site_gov,\n",
    "    num_get_reqs_gov, \n",
    "    num_post_reqs_gov, \n",
    "    num_other_reqs_gov,\n",
    "    client_hints_gov,\n",
    "    redirection_pairs_gov,\n",
    "    first_party_subdomains_gov,\n",
    "    disabled_permissions_gov,\n",
    "    all_referrer_policies_gov) = get_all_info_form_hars(GOV_DIR)\n",
    "\n",
    "(\n",
    "    num_requests_news, \n",
    "    num_third_party_requests_news, \n",
    "    distinct_third_party_domains_news,\n",
    "    distinct_third_parties_count_per_site_news,\n",
    "    num_get_reqs_news, \n",
    "    num_post_reqs_news, \n",
    "    num_other_reqs_news, \n",
    "    client_hints_news, \n",
    "    redirection_pairs_news,\n",
    "    first_party_subdomains_news,\n",
    "    disabled_permissions_news,\n",
    "    all_referrer_policies_news) = get_all_info_form_hars(NEWS_DIR)"
   ]
  },
  {
   "cell_type": "markdown",
   "metadata": {},
   "source": [
    "# STATS AND VIZUALIZATIONS"
   ]
  },
  {
   "cell_type": "markdown",
   "metadata": {},
   "source": [
    "## 1 - BOXPOTS WITH SOME METRICS"
   ]
  },
  {
   "cell_type": "code",
   "execution_count": 40,
   "metadata": {},
   "outputs": [],
   "source": [
    "def create_boxplot(data, title, x_label, y_label, x_ticks=[\"Government\", \"News\"], filename=\"boxplot.png\"):\n",
    "    sns.set(rc={'figure.figsize': (10, 10)})\n",
    "    sns.set(style=\"whitegrid\")\n",
    "    ax = sns.boxplot(data=data)\n",
    "    ax.set_title(title)\n",
    "    ax.set_xlabel(x_label)\n",
    "    ax.set_xticklabels(x_ticks)\n",
    "    ax.set_ylabel(y_label)\n",
    "    plt.savefig(f'boxplots/{filename}')\n",
    "    plt.show()"
   ]
  },
  {
   "cell_type": "code",
   "execution_count": 41,
   "metadata": {},
   "outputs": [],
   "source": [
    "with open('crawl_data_gov_times') as f:\n",
    "    times_gov_dict = json.load(f)\n",
    "\n",
    "with open('crawl_data_news_times') as f:\n",
    "    times_news_dict = json.load(f)\n",
    "\n",
    "times_gov_list = [dict_val for dict_val in times_gov_dict.values()]\n",
    "times_news_list = [dict_val for dict_val in times_news_dict.values()]\n"
   ]
  },
  {
   "cell_type": "code",
   "execution_count": 8,
   "metadata": {},
   "outputs": [
    {
     "name": "stderr",
     "output_type": "stream",
     "text": [
      "/var/folders/hj/4fnk66_d79g2qz18p1tljyxc0000gn/T/ipykernel_23859/538456316.py:7: UserWarning: set_ticklabels() should only be used with a fixed number of ticks, i.e. after set_ticks() or using a FixedLocator.\n",
      "  ax.set_xticklabels(x_ticks)\n"
     ]
    },
    {
     "data": {
      "image/png": "[encoded data removed]",
      "text/plain": [
       "<Figure size 1000x1000 with 1 Axes>"
      ]
     },
     "metadata": {},
     "output_type": "display_data"
    }
   ],
   "source": [
    "create_boxplot([num_requests_gov, num_requests_news], \"Number of Requests of Government and News Websites\", \"Website Type\", \"Number of Requests\", filename=\"gov_news_requests.png\")"
   ]
  },
  {
   "cell_type": "code",
   "execution_count": 9,
   "metadata": {},
   "outputs": [
    {
     "name": "stderr",
     "output_type": "stream",
     "text": [
      "/var/folders/hj/4fnk66_d79g2qz18p1tljyxc0000gn/T/ipykernel_23859/538456316.py:7: UserWarning: set_ticklabels() should only be used with a fixed number of ticks, i.e. after set_ticks() or using a FixedLocator.\n",
      "  ax.set_xticklabels(x_ticks)\n"
     ]
    },
    {
     "data": {
      "image/png": "[encoded data removed]",
      "text/plain": [
       "<Figure size 1000x1000 with 1 Axes>"
      ]
     },
     "metadata": {},
     "output_type": "display_data"
    }
   ],
   "source": [
    "create_boxplot([times_gov_list, times_news_list], \"Loading Time of Government and News Websites\", \"Website Type\", \"Loading Time (s)\", filename=\"gov_news_loading_time.png\")\n"
   ]
  },
  {
   "cell_type": "code",
   "execution_count": 10,
   "metadata": {},
   "outputs": [
    {
     "name": "stderr",
     "output_type": "stream",
     "text": [
      "/var/folders/hj/4fnk66_d79g2qz18p1tljyxc0000gn/T/ipykernel_23859/538456316.py:7: UserWarning: set_ticklabels() should only be used with a fixed number of ticks, i.e. after set_ticks() or using a FixedLocator.\n",
      "  ax.set_xticklabels(x_ticks)\n"
     ]
    },
    {
     "data": {
      "image/png": "[encoded data removed]",
      "text/plain": [
       "<Figure size 1000x1000 with 1 Axes>"
      ]
     },
     "metadata": {},
     "output_type": "display_data"
    }
   ],
   "source": [
    "create_boxplot([num_third_party_requests_gov, num_third_party_requests_news], \"Number of Third Party Requests of Government and News Websites\", \"Website Type\", \"Number of Third Party Requests\", filename=\"gov_news_third_party_requests.png\")"
   ]
  },
  {
   "cell_type": "code",
   "execution_count": 11,
   "metadata": {},
   "outputs": [
    {
     "name": "stderr",
     "output_type": "stream",
     "text": [
      "/var/folders/hj/4fnk66_d79g2qz18p1tljyxc0000gn/T/ipykernel_23859/538456316.py:7: UserWarning: set_ticklabels() should only be used with a fixed number of ticks, i.e. after set_ticks() or using a FixedLocator.\n",
      "  ax.set_xticklabels(x_ticks)\n"
     ]
    },
    {
     "data": {
      "image/png": "[encoded data removed]",
      "text/plain": [
       "<Figure size 1000x1000 with 1 Axes>"
      ]
     },
     "metadata": {},
     "output_type": "display_data"
    }
   ],
   "source": [
    "\n",
    "# TODO CHECK!!!!\n",
    "create_boxplot([distinct_third_parties_count_per_site_gov, distinct_third_parties_count_per_site_news], \"Number of Third Party Domains of Government and News Websites\", \"Website Type\", \"Number of Third Party Domains\", filename=\"gov_news_third_party_domains.png\")"
   ]
  },
  {
   "cell_type": "markdown",
   "metadata": {},
   "source": [
    "## 2 - TABLE WITH MIN MEDIAN MAX FOR THE METRICS"
   ]
  },
  {
   "cell_type": "code",
   "execution_count": 12,
   "metadata": {},
   "outputs": [
    {
     "name": "stdout",
     "output_type": "stream",
     "text": [
      "Metric: loading_time\n",
      "News:\n",
      "Min: 0.4088881015777588\n",
      "Median: 1.244267737865448\n",
      "Max: 3.8423259258270264\n",
      "Government:\n",
      "Min: 0.2826869487762451\n",
      "Median: 0.887889814376831\n",
      "Max: 4.913503885269165\n",
      "Metric: num_requests\n",
      "News:\n",
      "Min: 246\n",
      "Median: 802.3\n",
      "Max: 1861\n",
      "Government:\n",
      "Min: 24\n",
      "Median: 58.1\n",
      "Max: 162\n",
      "Metric: num_third_party_requests\n",
      "News:\n",
      "Min: 24\n",
      "Median: 618.3\n",
      "Max: 1627\n",
      "Government:\n",
      "Min: 0\n",
      "Median: 9.6\n",
      "Max: 32\n",
      "Metric: num_third_party_domains\n",
      "News:\n",
      "Min: 8\n",
      "Median: 72.2\n",
      "Max: 139\n",
      "Government:\n",
      "Min: 0\n",
      "Median: 2.8\n",
      "Max: 8\n"
     ]
    }
   ],
   "source": [
    "metrics = {\n",
    "    \"loading_time\": [times_gov_list, times_news_list], \n",
    "    \"num_requests\": [num_requests_gov, num_requests_news], \n",
    "    \"num_third_party_requests\": [num_third_party_requests_gov, num_third_party_requests_news], \n",
    "    \"num_third_party_domains\": [distinct_third_parties_count_per_site_gov, distinct_third_parties_count_per_site_news]\n",
    "    }\n",
    "\n",
    "for metric, values in metrics.items():\n",
    "    print(f\"Metric: {metric}\")\n",
    "    print('News:')\n",
    "    print(f\"Min: {min(values[1])}\")\n",
    "    print(f\"Median: {sum(values[1]) / len(values[1])}\")\n",
    "    print(f\"Max: {max(values[1])}\")\n",
    "    print('Government:')\n",
    "    print(f\"Min: {min(values[0])}\")\n",
    "    print(f\"Median: {sum(values[0]) / len(values[0])}\")\n",
    "    print(f\"Max: {max(values[0])}\")\n",
    "\n",
    "\n",
    "    # TODO PLEASE MAKE A TABLE IN CODE AS WELL!!!"
   ]
  },
  {
   "cell_type": "markdown",
   "metadata": {},
   "source": [
    "## 3 - TABLE WITH PREVALENT THIRD-PARTIES AND WHETHER THEY ARE CLASSIFIED AS A TRACKER"
   ]
  },
  {
   "cell_type": "code",
   "execution_count": 71,
   "metadata": {},
   "outputs": [],
   "source": [
    "def prevalent_tracker_domains_table(third_party_entries):\n",
    "    data = {\n",
    "        'Third-party domain': list(third_party_entries.keys()), \n",
    "        'Number of distinct websites': list(third_party_entries.values()),    \n",
    "    }\n",
    "    table = pd.DataFrame(data)\n",
    "    table = table.sort_values(by=['Number of distinct websites'], ascending=False, ignore_index=True)\n",
    "    table['isTracker'] = table['Third-party domain'].apply(lambda x: True if x in TRACKING_DOMAINS else False)\n",
    "    return table[:10]"
   ]
  },
  {
   "cell_type": "code",
   "execution_count": 76,
   "metadata": {},
   "outputs": [
    {
     "data": {
      "text/html": [
       "<div>\n",
       "<style scoped>\n",
       "    .dataframe tbody tr th:only-of-type {\n",
       "        vertical-align: middle;\n",
       "    }\n",
       "\n",
       "    .dataframe tbody tr th {\n",
       "        vertical-align: top;\n",
       "    }\n",
       "\n",
       "    .dataframe thead th {\n",
       "        text-align: right;\n",
       "    }\n",
       "</style>\n",
       "<table border=\"1\" class=\"dataframe\">\n",
       "  <thead>\n",
       "    <tr style=\"text-align: right;\">\n",
       "      <th></th>\n",
       "      <th>Third-party domain</th>\n",
       "      <th>Number of distinct websites</th>\n",
       "      <th>isTracker</th>\n",
       "    </tr>\n",
       "  </thead>\n",
       "  <tbody>\n",
       "    <tr>\n",
       "      <th>0</th>\n",
       "      <td>googlesyndication.com</td>\n",
       "      <td>1228</td>\n",
       "      <td>True</td>\n",
       "    </tr>\n",
       "    <tr>\n",
       "      <th>1</th>\n",
       "      <td>doubleclick.net</td>\n",
       "      <td>848</td>\n",
       "      <td>True</td>\n",
       "    </tr>\n",
       "    <tr>\n",
       "      <th>2</th>\n",
       "      <td>2mdn.net</td>\n",
       "      <td>575</td>\n",
       "      <td>True</td>\n",
       "    </tr>\n",
       "    <tr>\n",
       "      <th>3</th>\n",
       "      <td>taboola.com</td>\n",
       "      <td>473</td>\n",
       "      <td>True</td>\n",
       "    </tr>\n",
       "    <tr>\n",
       "      <th>4</th>\n",
       "      <td>pubmatic.com</td>\n",
       "      <td>413</td>\n",
       "      <td>True</td>\n",
       "    </tr>\n",
       "    <tr>\n",
       "      <th>5</th>\n",
       "      <td>corriereobjects.it</td>\n",
       "      <td>381</td>\n",
       "      <td>False</td>\n",
       "    </tr>\n",
       "    <tr>\n",
       "      <th>6</th>\n",
       "      <td>rubiconproject.com</td>\n",
       "      <td>362</td>\n",
       "      <td>True</td>\n",
       "    </tr>\n",
       "    <tr>\n",
       "      <th>7</th>\n",
       "      <td>adnxs.com</td>\n",
       "      <td>353</td>\n",
       "      <td>True</td>\n",
       "    </tr>\n",
       "    <tr>\n",
       "      <th>8</th>\n",
       "      <td>amazon-adsystem.com</td>\n",
       "      <td>309</td>\n",
       "      <td>True</td>\n",
       "    </tr>\n",
       "    <tr>\n",
       "      <th>9</th>\n",
       "      <td>gazzettaobjects.it</td>\n",
       "      <td>277</td>\n",
       "      <td>False</td>\n",
       "    </tr>\n",
       "  </tbody>\n",
       "</table>\n",
       "</div>"
      ],
      "text/plain": [
       "      Third-party domain  Number of distinct websites  isTracker\n",
       "0  googlesyndication.com                         1228       True\n",
       "1        doubleclick.net                          848       True\n",
       "2               2mdn.net                          575       True\n",
       "3            taboola.com                          473       True\n",
       "4           pubmatic.com                          413       True\n",
       "5     corriereobjects.it                          381      False\n",
       "6     rubiconproject.com                          362       True\n",
       "7              adnxs.com                          353       True\n",
       "8    amazon-adsystem.com                          309       True\n",
       "9     gazzettaobjects.it                          277      False"
      ]
     },
     "execution_count": 76,
     "metadata": {},
     "output_type": "execute_result"
    }
   ],
   "source": [
    "tracker_table_news = prevalent_tracker_domains_table(distinct_third_party_domains_news)\n",
    "tracker_table_news\n",
    "# print(tracker_table_news.to_latex())"
   ]
  },
  {
   "cell_type": "code",
   "execution_count": 78,
   "metadata": {},
   "outputs": [
    {
     "data": {
      "text/html": [
       "<div>\n",
       "<style scoped>\n",
       "    .dataframe tbody tr th:only-of-type {\n",
       "        vertical-align: middle;\n",
       "    }\n",
       "\n",
       "    .dataframe tbody tr th {\n",
       "        vertical-align: top;\n",
       "    }\n",
       "\n",
       "    .dataframe thead th {\n",
       "        text-align: right;\n",
       "    }\n",
       "</style>\n",
       "<table border=\"1\" class=\"dataframe\">\n",
       "  <thead>\n",
       "    <tr style=\"text-align: right;\">\n",
       "      <th></th>\n",
       "      <th>Third-party domain</th>\n",
       "      <th>Number of distinct websites</th>\n",
       "      <th>isTracker</th>\n",
       "    </tr>\n",
       "  </thead>\n",
       "  <tbody>\n",
       "    <tr>\n",
       "      <th>0</th>\n",
       "      <td>piwik.pro</td>\n",
       "      <td>35</td>\n",
       "      <td>False</td>\n",
       "    </tr>\n",
       "    <tr>\n",
       "      <th>1</th>\n",
       "      <td>rijksoverheid.nl</td>\n",
       "      <td>20</td>\n",
       "      <td>False</td>\n",
       "    </tr>\n",
       "    <tr>\n",
       "      <th>2</th>\n",
       "      <td>siteimproveanalytics.io</td>\n",
       "      <td>16</td>\n",
       "      <td>False</td>\n",
       "    </tr>\n",
       "    <tr>\n",
       "      <th>3</th>\n",
       "      <td>abtasty.com</td>\n",
       "      <td>15</td>\n",
       "      <td>False</td>\n",
       "    </tr>\n",
       "    <tr>\n",
       "      <th>4</th>\n",
       "      <td>gstatic.com</td>\n",
       "      <td>10</td>\n",
       "      <td>True</td>\n",
       "    </tr>\n",
       "    <tr>\n",
       "      <th>5</th>\n",
       "      <td>cookiebot.com</td>\n",
       "      <td>7</td>\n",
       "      <td>False</td>\n",
       "    </tr>\n",
       "    <tr>\n",
       "      <th>6</th>\n",
       "      <td>uwv.nl</td>\n",
       "      <td>7</td>\n",
       "      <td>False</td>\n",
       "    </tr>\n",
       "    <tr>\n",
       "      <th>7</th>\n",
       "      <td>rijkscloud.nl</td>\n",
       "      <td>6</td>\n",
       "      <td>False</td>\n",
       "    </tr>\n",
       "    <tr>\n",
       "      <th>8</th>\n",
       "      <td>mopinion.com</td>\n",
       "      <td>6</td>\n",
       "      <td>False</td>\n",
       "    </tr>\n",
       "    <tr>\n",
       "      <th>9</th>\n",
       "      <td>google-analytics.com</td>\n",
       "      <td>5</td>\n",
       "      <td>True</td>\n",
       "    </tr>\n",
       "  </tbody>\n",
       "</table>\n",
       "</div>"
      ],
      "text/plain": [
       "        Third-party domain  Number of distinct websites  isTracker\n",
       "0                piwik.pro                           35      False\n",
       "1         rijksoverheid.nl                           20      False\n",
       "2  siteimproveanalytics.io                           16      False\n",
       "3              abtasty.com                           15      False\n",
       "4              gstatic.com                           10       True\n",
       "5            cookiebot.com                            7      False\n",
       "6                   uwv.nl                            7      False\n",
       "7            rijkscloud.nl                            6      False\n",
       "8             mopinion.com                            6      False\n",
       "9     google-analytics.com                            5       True"
      ]
     },
     "execution_count": 78,
     "metadata": {},
     "output_type": "execute_result"
    }
   ],
   "source": [
    "tracker_table_gov = prevalent_tracker_domains_table(distinct_third_party_domains_gov)\n",
    "tracker_table_gov\n",
    "# print(tracker_table_gov.to_latex())"
   ]
  },
  {
   "cell_type": "markdown",
   "metadata": {},
   "source": [
    "## 4 - REQUESTS BY METHOD"
   ]
  },
  {
   "cell_type": "code",
   "execution_count": 43,
   "metadata": {},
   "outputs": [
    {
     "data": {
      "text/html": [
       "<style type=\"text/css\">\n",
       "</style>\n",
       "<table id=\"T_37e2c\">\n",
       "  <thead>\n",
       "    <tr>\n",
       "      <th id=\"T_37e2c_level0_col0\" class=\"col_heading level0 col0\" >HTTP Method</th>\n",
       "      <th id=\"T_37e2c_level0_col1\" class=\"col_heading level0 col1\" >Crawl-news</th>\n",
       "      <th id=\"T_37e2c_level0_col2\" class=\"col_heading level0 col2\" >Crawl-gov</th>\n",
       "    </tr>\n",
       "  </thead>\n",
       "  <tbody>\n",
       "    <tr>\n",
       "      <td id=\"T_37e2c_row0_col0\" class=\"data row0 col0\" >GET</td>\n",
       "      <td id=\"T_37e2c_row0_col1\" class=\"data row0 col1\" >14364 (89.5%)</td>\n",
       "      <td id=\"T_37e2c_row0_col2\" class=\"data row0 col2\" >1087 (93.5%)</td>\n",
       "    </tr>\n",
       "    <tr>\n",
       "      <td id=\"T_37e2c_row1_col0\" class=\"data row1 col0\" >POST</td>\n",
       "      <td id=\"T_37e2c_row1_col1\" class=\"data row1 col1\" >1677 (10.5%)</td>\n",
       "      <td id=\"T_37e2c_row1_col2\" class=\"data row1 col2\" >75 (6.5%)</td>\n",
       "    </tr>\n",
       "    <tr>\n",
       "      <td id=\"T_37e2c_row2_col0\" class=\"data row2 col0\" >other</td>\n",
       "      <td id=\"T_37e2c_row2_col1\" class=\"data row2 col1\" >5 (0.0%)</td>\n",
       "      <td id=\"T_37e2c_row2_col2\" class=\"data row2 col2\" >0 (0.0%)</td>\n",
       "    </tr>\n",
       "  </tbody>\n",
       "</table>\n"
      ],
      "text/plain": [
       "<pandas.io.formats.style.Styler at 0x2a0c20be0>"
      ]
     },
     "metadata": {},
     "output_type": "display_data"
    }
   ],
   "source": [
    "data = {\n",
    "    'HTTP Method': ['GET', 'POST', 'other'],\n",
    "    'Crawl-news': [num_get_reqs_news, num_post_reqs_news, num_other_reqs_news],\n",
    "    'Crawl-gov': [num_get_reqs_gov, num_post_reqs_gov, num_other_reqs_gov]\n",
    "}\n",
    "\n",
    "df = pd.DataFrame(data)\n",
    "totals = df[['Crawl-gov', 'Crawl-news']].sum()\n",
    "\n",
    "df['Crawl-gov %'] = (df['Crawl-gov'] / totals['Crawl-gov']) * 100\n",
    "df['Crawl-news %'] = (df['Crawl-news'] / totals['Crawl-news']) * 100\n",
    "\n",
    "df['Crawl-gov'] = df['Crawl-gov'].astype(str) + \" (\" + df['Crawl-gov %'].round(1).astype(str) + \"%)\"\n",
    "df['Crawl-news'] = df['Crawl-news'].astype(str) + \" (\" + df['Crawl-news %'].round(1).astype(str) + \"%)\"\n",
    "df = df.drop(columns=['Crawl-gov %', 'Crawl-news %'])\n",
    "\n",
    "display(df.style.hide(axis='index'))"
   ]
  },
  {
   "cell_type": "markdown",
   "metadata": {},
   "source": [
    "## 5 - PERMISSIONS POLICY"
   ]
  },
  {
   "cell_type": "code",
   "execution_count": 13,
   "metadata": {},
   "outputs": [],
   "source": [
    "def make_permission_policy_table(permission_dict):\n",
    "    df = pd.DataFrame(list(permission_dict.items()), columns=['Permission', 'Count'])\n",
    "\n",
    "    # Sort by frequency and select top 10\n",
    "    top10_df = df.nlargest(10, 'Count')\n",
    "\n",
    "    # Modify rows to show 'permission: count'\n",
    "    top10_df['Value'] = top10_df.apply(lambda row: f\"{row['Permission']}: {row['Count']}\", axis=1)\n",
    "\n",
    "    # Select only the 'Value' column\n",
    "    top10_df_result = top10_df[['Value']]\n",
    "    return top10_df_result\n",
    "\n",
    "permissions_news = make_permission_policy_table(disabled_permissions_news)\n",
    "permissions_gov = make_permission_policy_table(disabled_permissions_gov)\n",
    "\n",
    "combined_df = pd.concat([permissions_gov.reset_index(drop=True), permissions_news.reset_index(drop=True)], axis=1)\n",
    "combined_df = combined_df.fillna(' ')\n",
    "combined_df.columns = ['Number of websites where this permission was disabled (Crawl-gov)', 'Number of websites where this permission was disabled (Crawl-news)']\n"
   ]
  },
  {
   "cell_type": "code",
   "execution_count": 79,
   "metadata": {},
   "outputs": [
    {
     "name": "stdout",
     "output_type": "stream",
     "text": [
      "\\begin{tabular}{lll}\n",
      "\\toprule\n",
      " & Number of websites where this permission was disabled (Crawl-gov) & Number of websites where this permission was disabled (Crawl-news) \\\\\n",
      "\\midrule\n",
      "0 & payment: 1 & accelerometer: 9 \\\\\n",
      "1 &   & usb: 9 \\\\\n",
      "2 &   & screen-wake-lock: 9 \\\\\n",
      "3 &   & payment: 9 \\\\\n",
      "4 &   & gyroscope: 9 \\\\\n",
      "5 &   & geolocation: 9 \\\\\n",
      "6 &   & xr-spatial-tracking: 9 \\\\\n",
      "7 &   & midi: 9 \\\\\n",
      "8 &   & magnetometer: 9 \\\\\n",
      "9 &   & microphone: 9 \\\\\n",
      "\\bottomrule\n",
      "\\end{tabular}\n",
      "\n"
     ]
    }
   ],
   "source": [
    "combined_df\n",
    "print(combined_df.to_latex())"
   ]
  },
  {
   "cell_type": "markdown",
   "metadata": {},
   "source": [
    "## 6 - REFERRER POLICY"
   ]
  },
  {
   "cell_type": "code",
   "execution_count": 74,
   "metadata": {},
   "outputs": [
    {
     "name": "stdout",
     "output_type": "stream",
     "text": [
      "{'same-origin': ['acm.nl', 'digid.nl', 'werk.nl'], 'no-referrer': ['business.gov.nl', 'werk.nl', 'denhaag.nl'], 'unsafe-url': []}\n",
      "{'same-origin': ['nos.nl'], 'no-referrer': ['nos.nl', 'ouest-france.fr'], 'unsafe-url': ['repubblica.it', 'corriere.it', 'gazzetta.it']}\n"
     ]
    }
   ],
   "source": [
    "print(all_referrer_policies_gov)\n",
    "print(all_referrer_policies_news)"
   ]
  },
  {
   "cell_type": "markdown",
   "metadata": {},
   "source": [
    "## 7 ACCEPT-CH ANALYSIS TABLE"
   ]
  },
  {
   "cell_type": "code",
   "execution_count": 70,
   "metadata": {},
   "outputs": [
    {
     "name": "stdout",
     "output_type": "stream",
     "text": [
      "['Sec-CH-UA-Arch', 'Sec-CH-UA-Bitness', 'Sec-CH-UA-Full-Version-List']\n",
      "{'Sec-CH-UA-Arch': 1, 'Sec-CH-UA-Bitness': 1, 'Sec-CH-UA-Full-Version-List': 1}\n",
      "{'Sec-CH-UA-Arch': 19, 'Sec-CH-UA-Bitness': 19, 'Sec-CH-UA-Full-Version-List': 19}\n"
     ]
    }
   ],
   "source": [
    "sorted_client_hints_news = {k: v for k, v in sorted(client_hints_news[0].items(), key=lambda item: item[1], reverse=True)}\n",
    "sorted_client_hints_gov = {k: v for k, v in sorted(client_hints_gov[0].items(), key=lambda item: item[1], reverse=True)}\n",
    "\n",
    "# Combine client hints from all websites\n",
    "all_client_hints_gov = {}\n",
    "for hints in client_hints_gov:\n",
    "    for hint, count in hints.items():\n",
    "        all_client_hints_gov[hint] = all_client_hints_gov.get(hint, 0) + count\n",
    "\n",
    "# Sort client hints by count\n",
    "sorted_all_client_hints_gov = {k: v for k, v in sorted(all_client_hints_gov.items(), key=lambda item: item[1], reverse=True)}\n",
    "\n",
    "all_client_hints_news = {}\n",
    "for hints in client_hints_news:\n",
    "    for hint, count in hints.items():\n",
    "        all_client_hints_news[hint] = all_client_hints_news.get(hint, 0) + count\n",
    "\n",
    "sorted_all_client_hints_news = {k: v for k, v in sorted(all_client_hints_news.items(), key=lambda item: item[1], reverse=True)}\n",
    "\n",
    "# Gov and news websites client hints combined\n",
    "all_client_hints = {}\n",
    "for hint, count in sorted_all_client_hints_gov.items():\n",
    "    all_client_hints[hint] = all_client_hints.get(hint, 0) + count\n",
    "\n",
    "for hint, count in sorted_all_client_hints_news.items():\n",
    "    all_client_hints[hint] = all_client_hints.get(hint, 0) + count\n",
    "\n",
    "sorted_all_client_hints = {k: v for k, v in sorted(all_client_hints.items(), key=lambda item: item[1], reverse=True)}\n",
    "\n",
    "# Get 3 most common client hints\n",
    "top_3_client_hints = list(sorted_all_client_hints.keys())[:3]\n",
    "print(top_3_client_hints)\n",
    "\n",
    "# Get counts for top 3 client hints\n",
    "top_3_client_hints_counts = []\n",
    "counts_gov = {}\n",
    "counts_news = {}\n",
    "for hint in top_3_client_hints: \n",
    "    counts_gov[hint] = sorted_all_client_hints_gov.get(hint, 0)\n",
    "    counts_news[hint] = sorted_all_client_hints_news.get(hint, 0)\n",
    "print(counts_gov)\n",
    "print(counts_news)"
   ]
  },
  {
   "cell_type": "code",
   "execution_count": null,
   "metadata": {},
   "outputs": [],
   "source": []
  },
  {
   "cell_type": "markdown",
   "metadata": {},
   "source": [
    "## 8 - PREVALENT REDIRECTION PAIRS"
   ]
  },
  {
   "cell_type": "code",
   "execution_count": 72,
   "metadata": {},
   "outputs": [
    {
     "data": {
      "text/html": [
       "<style type=\"text/css\">\n",
       "</style>\n",
       "<table id=\"T_7f516\">\n",
       "  <thead>\n",
       "    <tr>\n",
       "      <th id=\"T_7f516_level0_col0\" class=\"col_heading level0 col0\" >Source domain</th>\n",
       "      <th id=\"T_7f516_level0_col1\" class=\"col_heading level0 col1\" >Target domain</th>\n",
       "      <th id=\"T_7f516_level0_col2\" class=\"col_heading level0 col2\" >Number of distinct websites</th>\n",
       "    </tr>\n",
       "  </thead>\n",
       "  <tbody>\n",
       "    <tr>\n",
       "      <td id=\"T_7f516_row0_col0\" class=\"data row0 col0\" >doubleclick.net</td>\n",
       "      <td id=\"T_7f516_row0_col1\" class=\"data row0 col1\" >casalemedia.com</td>\n",
       "      <td id=\"T_7f516_row0_col2\" class=\"data row0 col2\" >16</td>\n",
       "    </tr>\n",
       "    <tr>\n",
       "      <td id=\"T_7f516_row1_col0\" class=\"data row1 col0\" >casalemedia.com</td>\n",
       "      <td id=\"T_7f516_row1_col1\" class=\"data row1 col1\" >doubleclick.net</td>\n",
       "      <td id=\"T_7f516_row1_col2\" class=\"data row1 col2\" >16</td>\n",
       "    </tr>\n",
       "    <tr>\n",
       "      <td id=\"T_7f516_row2_col0\" class=\"data row2 col0\" >adnxs.com</td>\n",
       "      <td id=\"T_7f516_row2_col1\" class=\"data row2 col1\" >doubleclick.net</td>\n",
       "      <td id=\"T_7f516_row2_col2\" class=\"data row2 col2\" >12</td>\n",
       "    </tr>\n",
       "  </tbody>\n",
       "</table>\n"
      ],
      "text/plain": [
       "<pandas.io.formats.style.Styler at 0x2bd1009a0>"
      ]
     },
     "metadata": {},
     "output_type": "display_data"
    }
   ],
   "source": [
    "# pair_counts_gov = {pair: len(websites) for pair, websites in redirection_pairs_gov.items()}\n",
    "# most_common_elements_gov = Counter(pair_counts_gov).most_common(3)\n",
    "\n",
    "pair_counts_news = {pair: len(websites) for pair, websites in redirection_pairs_news.items()}\n",
    "most_common_elements_news = Counter(pair_counts_news).most_common(3)\n",
    "\n",
    "# Data is only available for news websites, since government websites don't have any cross-domain redirections\n",
    "cross_domain_data = {\n",
    "    'Source domain': [most_common_elements_news[0][0][0], most_common_elements_news[1][0][0], most_common_elements_news[2][0][0]],\n",
    "    'Target domain': [most_common_elements_news[0][0][1], most_common_elements_news[1][0][1], most_common_elements_news[2][0][1]],\n",
    "    'Number of distinct websites': [most_common_elements_news[0][1], most_common_elements_news[1][1], most_common_elements_news[2][1]]\n",
    "}\n",
    "cross_domain_df = pd.DataFrame(cross_domain_data)\n",
    "display(cross_domain_df.style.hide(axis='index'))"
   ]
  },
  {
   "cell_type": "markdown",
   "metadata": {},
   "source": [
    "## 9 - CNAME"
   ]
  },
  {
   "cell_type": "code",
   "execution_count": 69,
   "metadata": {},
   "outputs": [
    {
     "name": "stdout",
     "output_type": "stream",
     "text": [
      "DNS error: The resolution lifetime expired after 5.404 seconds: Server Do53:192.168.0.1@53 answered The DNS operation timed out.; Server Do53:192.168.0.1@53 answered The DNS operation timed out.; Server Do53:192.168.0.1@53 answered The DNS operation timed out.\n"
     ]
    },
    {
     "ename": "KeyboardInterrupt",
     "evalue": "",
     "output_type": "error",
     "traceback": [
      "\u001b[0;31m---------------------------------------------------------------------------\u001b[0m",
      "\u001b[0;31mBlockingIOError\u001b[0m                           Traceback (most recent call last)",
      "File \u001b[0;32m~/Desktop/Radboud/OnlineTracking/Assignment2/WebCrawler/venv/lib/python3.10/site-packages/dns/query.py:651\u001b[0m, in \u001b[0;36m_udp_recv\u001b[0;34m(sock, max_size, expiration)\u001b[0m\n\u001b[1;32m    650\u001b[0m \u001b[39mtry\u001b[39;00m:\n\u001b[0;32m--> 651\u001b[0m     \u001b[39mreturn\u001b[39;00m sock\u001b[39m.\u001b[39;49mrecvfrom(max_size)\n\u001b[1;32m    652\u001b[0m \u001b[39mexcept\u001b[39;00m \u001b[39mBlockingIOError\u001b[39;00m:\n",
      "\u001b[0;31mBlockingIOError\u001b[0m: [Errno 35] Resource temporarily unavailable",
      "\nDuring handling of the above exception, another exception occurred:\n",
      "\u001b[0;31mKeyboardInterrupt\u001b[0m                         Traceback (most recent call last)",
      "Cell \u001b[0;32mIn[69], line 9\u001b[0m\n\u001b[1;32m      7\u001b[0m \u001b[38;5;28;01mfor\u001b[39;00m gov_first_party_subdomain \u001b[38;5;129;01min\u001b[39;00m first_party_subdomains_gov:\n\u001b[1;32m      8\u001b[0m     \u001b[38;5;28;01mtry\u001b[39;00m:\n\u001b[0;32m----> 9\u001b[0m         answers \u001b[38;5;241m=\u001b[39m \u001b[43mdns\u001b[49m\u001b[38;5;241;43m.\u001b[39;49m\u001b[43mresolver\u001b[49m\u001b[38;5;241;43m.\u001b[39;49m\u001b[43mresolve\u001b[49m\u001b[43m(\u001b[49m\u001b[43mgov_first_party_subdomain\u001b[49m\u001b[43m,\u001b[49m\u001b[43m \u001b[49m\u001b[38;5;124;43m'\u001b[39;49m\u001b[38;5;124;43mCNAME\u001b[39;49m\u001b[38;5;124;43m'\u001b[39;49m\u001b[43m)\u001b[49m\n\u001b[1;32m     10\u001b[0m         \u001b[38;5;28;01mfor\u001b[39;00m rdata \u001b[38;5;129;01min\u001b[39;00m answers:\n\u001b[1;32m     11\u001b[0m             cname_record \u001b[38;5;241m=\u001b[39m rdata\u001b[38;5;241m.\u001b[39mtarget\u001b[38;5;241m.\u001b[39mto_text()\u001b[38;5;241m.\u001b[39mrstrip(\u001b[38;5;124m\"\u001b[39m\u001b[38;5;124m.\u001b[39m\u001b[38;5;124m\"\u001b[39m)\n",
      "File \u001b[0;32m~/Desktop/Radboud/OnlineTracking/Assignment2/WebCrawler/venv/lib/python3.10/site-packages/dns/resolver.py:1564\u001b[0m, in \u001b[0;36mresolve\u001b[0;34m(qname, rdtype, rdclass, tcp, source, raise_on_no_answer, source_port, lifetime, search)\u001b[0m\n\u001b[1;32m   1544\u001b[0m \u001b[39mdef\u001b[39;00m \u001b[39mresolve\u001b[39m(\n\u001b[1;32m   1545\u001b[0m     qname: Union[dns\u001b[39m.\u001b[39mname\u001b[39m.\u001b[39mName, \u001b[39mstr\u001b[39m],\n\u001b[1;32m   1546\u001b[0m     rdtype: Union[dns\u001b[39m.\u001b[39mrdatatype\u001b[39m.\u001b[39mRdataType, \u001b[39mstr\u001b[39m] \u001b[39m=\u001b[39m dns\u001b[39m.\u001b[39mrdatatype\u001b[39m.\u001b[39mA,\n\u001b[0;32m   (...)\u001b[0m\n\u001b[1;32m   1553\u001b[0m     search: Optional[\u001b[39mbool\u001b[39m] \u001b[39m=\u001b[39m \u001b[39mNone\u001b[39;00m,\n\u001b[1;32m   1554\u001b[0m ) \u001b[39m-\u001b[39m\u001b[39m>\u001b[39m Answer:  \u001b[39m# pragma: no cover\u001b[39;00m\n\u001b[1;32m   1555\u001b[0m \u001b[39m    \u001b[39m\u001b[39m\"\"\"Query nameservers to find the answer to the question.\u001b[39;00m\n\u001b[1;32m   1556\u001b[0m \n\u001b[1;32m   1557\u001b[0m \u001b[39m    This is a convenience function that uses the default resolver\u001b[39;00m\n\u001b[0;32m   (...)\u001b[0m\n\u001b[1;32m   1561\u001b[0m \u001b[39m    parameters.\u001b[39;00m\n\u001b[1;32m   1562\u001b[0m \u001b[39m    \"\"\"\u001b[39;00m\n\u001b[0;32m-> 1564\u001b[0m     \u001b[39mreturn\u001b[39;00m get_default_resolver()\u001b[39m.\u001b[39;49mresolve(\n\u001b[1;32m   1565\u001b[0m         qname,\n\u001b[1;32m   1566\u001b[0m         rdtype,\n\u001b[1;32m   1567\u001b[0m         rdclass,\n\u001b[1;32m   1568\u001b[0m         tcp,\n\u001b[1;32m   1569\u001b[0m         source,\n\u001b[1;32m   1570\u001b[0m         raise_on_no_answer,\n\u001b[1;32m   1571\u001b[0m         source_port,\n\u001b[1;32m   1572\u001b[0m         lifetime,\n\u001b[1;32m   1573\u001b[0m         search,\n\u001b[1;32m   1574\u001b[0m     )\n",
      "File \u001b[0;32m~/Desktop/Radboud/OnlineTracking/Assignment2/WebCrawler/venv/lib/python3.10/site-packages/dns/resolver.py:1322\u001b[0m, in \u001b[0;36mResolver.resolve\u001b[0;34m(self, qname, rdtype, rdclass, tcp, source, raise_on_no_answer, source_port, lifetime, search)\u001b[0m\n\u001b[1;32m   1320\u001b[0m timeout \u001b[39m=\u001b[39m \u001b[39mself\u001b[39m\u001b[39m.\u001b[39m_compute_timeout(start, lifetime, resolution\u001b[39m.\u001b[39merrors)\n\u001b[1;32m   1321\u001b[0m \u001b[39mtry\u001b[39;00m:\n\u001b[0;32m-> 1322\u001b[0m     response \u001b[39m=\u001b[39m nameserver\u001b[39m.\u001b[39;49mquery(\n\u001b[1;32m   1323\u001b[0m         request,\n\u001b[1;32m   1324\u001b[0m         timeout\u001b[39m=\u001b[39;49mtimeout,\n\u001b[1;32m   1325\u001b[0m         source\u001b[39m=\u001b[39;49msource,\n\u001b[1;32m   1326\u001b[0m         source_port\u001b[39m=\u001b[39;49msource_port,\n\u001b[1;32m   1327\u001b[0m         max_size\u001b[39m=\u001b[39;49mtcp,\n\u001b[1;32m   1328\u001b[0m     )\n\u001b[1;32m   1329\u001b[0m \u001b[39mexcept\u001b[39;00m \u001b[39mException\u001b[39;00m \u001b[39mas\u001b[39;00m ex:\n\u001b[1;32m   1330\u001b[0m     (_, done) \u001b[39m=\u001b[39m resolution\u001b[39m.\u001b[39mquery_result(\u001b[39mNone\u001b[39;00m, ex)\n",
      "File \u001b[0;32m~/Desktop/Radboud/OnlineTracking/Assignment2/WebCrawler/venv/lib/python3.10/site-packages/dns/nameserver.py:108\u001b[0m, in \u001b[0;36mDo53Nameserver.query\u001b[0;34m(self, request, timeout, source, source_port, max_size, one_rr_per_rrset, ignore_trailing)\u001b[0m\n\u001b[1;32m     97\u001b[0m     response \u001b[39m=\u001b[39m dns\u001b[39m.\u001b[39mquery\u001b[39m.\u001b[39mtcp(\n\u001b[1;32m     98\u001b[0m         request,\n\u001b[1;32m     99\u001b[0m         \u001b[39mself\u001b[39m\u001b[39m.\u001b[39maddress,\n\u001b[0;32m   (...)\u001b[0m\n\u001b[1;32m    105\u001b[0m         ignore_trailing\u001b[39m=\u001b[39mignore_trailing,\n\u001b[1;32m    106\u001b[0m     )\n\u001b[1;32m    107\u001b[0m \u001b[39melse\u001b[39;00m:\n\u001b[0;32m--> 108\u001b[0m     response \u001b[39m=\u001b[39m dns\u001b[39m.\u001b[39;49mquery\u001b[39m.\u001b[39;49mudp(\n\u001b[1;32m    109\u001b[0m         request,\n\u001b[1;32m    110\u001b[0m         \u001b[39mself\u001b[39;49m\u001b[39m.\u001b[39;49maddress,\n\u001b[1;32m    111\u001b[0m         timeout\u001b[39m=\u001b[39;49mtimeout,\n\u001b[1;32m    112\u001b[0m         port\u001b[39m=\u001b[39;49m\u001b[39mself\u001b[39;49m\u001b[39m.\u001b[39;49mport,\n\u001b[1;32m    113\u001b[0m         source\u001b[39m=\u001b[39;49msource,\n\u001b[1;32m    114\u001b[0m         source_port\u001b[39m=\u001b[39;49msource_port,\n\u001b[1;32m    115\u001b[0m         raise_on_truncation\u001b[39m=\u001b[39;49m\u001b[39mTrue\u001b[39;49;00m,\n\u001b[1;32m    116\u001b[0m         one_rr_per_rrset\u001b[39m=\u001b[39;49mone_rr_per_rrset,\n\u001b[1;32m    117\u001b[0m         ignore_trailing\u001b[39m=\u001b[39;49mignore_trailing,\n\u001b[1;32m    118\u001b[0m         ignore_errors\u001b[39m=\u001b[39;49m\u001b[39mTrue\u001b[39;49;00m,\n\u001b[1;32m    119\u001b[0m         ignore_unexpected\u001b[39m=\u001b[39;49m\u001b[39mTrue\u001b[39;49;00m,\n\u001b[1;32m    120\u001b[0m     )\n\u001b[1;32m    121\u001b[0m \u001b[39mreturn\u001b[39;00m response\n",
      "File \u001b[0;32m~/Desktop/Radboud/OnlineTracking/Assignment2/WebCrawler/venv/lib/python3.10/site-packages/dns/query.py:873\u001b[0m, in \u001b[0;36mudp\u001b[0;34m(q, where, timeout, port, source, source_port, ignore_unexpected, one_rr_per_rrset, ignore_trailing, raise_on_truncation, sock, ignore_errors)\u001b[0m\n\u001b[1;32m    871\u001b[0m \u001b[39mwith\u001b[39;00m cm \u001b[39mas\u001b[39;00m s:\n\u001b[1;32m    872\u001b[0m     send_udp(s, wire, destination, expiration)\n\u001b[0;32m--> 873\u001b[0m     (r, received_time) \u001b[39m=\u001b[39m receive_udp(\n\u001b[1;32m    874\u001b[0m         s,\n\u001b[1;32m    875\u001b[0m         destination,\n\u001b[1;32m    876\u001b[0m         expiration,\n\u001b[1;32m    877\u001b[0m         ignore_unexpected,\n\u001b[1;32m    878\u001b[0m         one_rr_per_rrset,\n\u001b[1;32m    879\u001b[0m         q\u001b[39m.\u001b[39;49mkeyring,\n\u001b[1;32m    880\u001b[0m         q\u001b[39m.\u001b[39;49mmac,\n\u001b[1;32m    881\u001b[0m         ignore_trailing,\n\u001b[1;32m    882\u001b[0m         raise_on_truncation,\n\u001b[1;32m    883\u001b[0m         ignore_errors,\n\u001b[1;32m    884\u001b[0m         q,\n\u001b[1;32m    885\u001b[0m     )\n\u001b[1;32m    886\u001b[0m     r\u001b[39m.\u001b[39mtime \u001b[39m=\u001b[39m received_time \u001b[39m-\u001b[39m begin_time\n\u001b[1;32m    887\u001b[0m     \u001b[39m# We don't need to check q.is_response() if we are in ignore_errors mode\u001b[39;00m\n\u001b[1;32m    888\u001b[0m     \u001b[39m# as receive_udp() will have checked it.\u001b[39;00m\n",
      "File \u001b[0;32m~/Desktop/Radboud/OnlineTracking/Assignment2/WebCrawler/venv/lib/python3.10/site-packages/dns/query.py:764\u001b[0m, in \u001b[0;36mreceive_udp\u001b[0;34m(sock, destination, expiration, ignore_unexpected, one_rr_per_rrset, keyring, request_mac, ignore_trailing, raise_on_truncation, ignore_errors, query)\u001b[0m\n\u001b[1;32m    762\u001b[0m wire \u001b[39m=\u001b[39m \u001b[39mb\u001b[39m\u001b[39m\"\u001b[39m\u001b[39m\"\u001b[39m\n\u001b[1;32m    763\u001b[0m \u001b[39mwhile\u001b[39;00m \u001b[39mTrue\u001b[39;00m:\n\u001b[0;32m--> 764\u001b[0m     (wire, from_address) \u001b[39m=\u001b[39m _udp_recv(sock, \u001b[39m65535\u001b[39;49m, expiration)\n\u001b[1;32m    765\u001b[0m     \u001b[39mif\u001b[39;00m \u001b[39mnot\u001b[39;00m _matches_destination(\n\u001b[1;32m    766\u001b[0m         sock\u001b[39m.\u001b[39mfamily, from_address, destination, ignore_unexpected\n\u001b[1;32m    767\u001b[0m     ):\n\u001b[1;32m    768\u001b[0m         \u001b[39mcontinue\u001b[39;00m\n",
      "File \u001b[0;32m~/Desktop/Radboud/OnlineTracking/Assignment2/WebCrawler/venv/lib/python3.10/site-packages/dns/query.py:653\u001b[0m, in \u001b[0;36m_udp_recv\u001b[0;34m(sock, max_size, expiration)\u001b[0m\n\u001b[1;32m    651\u001b[0m     \u001b[39mreturn\u001b[39;00m sock\u001b[39m.\u001b[39mrecvfrom(max_size)\n\u001b[1;32m    652\u001b[0m \u001b[39mexcept\u001b[39;00m \u001b[39mBlockingIOError\u001b[39;00m:\n\u001b[0;32m--> 653\u001b[0m     _wait_for_readable(sock, expiration)\n",
      "File \u001b[0;32m~/Desktop/Radboud/OnlineTracking/Assignment2/WebCrawler/venv/lib/python3.10/site-packages/dns/query.py:241\u001b[0m, in \u001b[0;36m_wait_for_readable\u001b[0;34m(s, expiration)\u001b[0m\n\u001b[1;32m    240\u001b[0m \u001b[39mdef\u001b[39;00m \u001b[39m_wait_for_readable\u001b[39m(s, expiration):\n\u001b[0;32m--> 241\u001b[0m     _wait_for(s, \u001b[39mTrue\u001b[39;49;00m, \u001b[39mFalse\u001b[39;49;00m, \u001b[39mTrue\u001b[39;49;00m, expiration)\n",
      "File \u001b[0;32m~/Desktop/Radboud/OnlineTracking/Assignment2/WebCrawler/venv/lib/python3.10/site-packages/dns/query.py:236\u001b[0m, in \u001b[0;36m_wait_for\u001b[0;34m(fd, readable, writable, _, expiration)\u001b[0m\n\u001b[1;32m    234\u001b[0m     \u001b[39mif\u001b[39;00m timeout \u001b[39m<\u001b[39m\u001b[39m=\u001b[39m \u001b[39m0.0\u001b[39m:\n\u001b[1;32m    235\u001b[0m         \u001b[39mraise\u001b[39;00m dns\u001b[39m.\u001b[39mexception\u001b[39m.\u001b[39mTimeout\n\u001b[0;32m--> 236\u001b[0m \u001b[39mif\u001b[39;00m \u001b[39mnot\u001b[39;00m sel\u001b[39m.\u001b[39;49mselect(timeout):\n\u001b[1;32m    237\u001b[0m     \u001b[39mraise\u001b[39;00m dns\u001b[39m.\u001b[39mexception\u001b[39m.\u001b[39mTimeout\n",
      "File \u001b[0;32m/Library/Frameworks/Python.framework/Versions/3.10/lib/python3.10/selectors.py:562\u001b[0m, in \u001b[0;36mKqueueSelector.select\u001b[0;34m(self, timeout)\u001b[0m\n\u001b[1;32m    560\u001b[0m ready \u001b[39m=\u001b[39m []\n\u001b[1;32m    561\u001b[0m \u001b[39mtry\u001b[39;00m:\n\u001b[0;32m--> 562\u001b[0m     kev_list \u001b[39m=\u001b[39m \u001b[39mself\u001b[39;49m\u001b[39m.\u001b[39;49m_selector\u001b[39m.\u001b[39;49mcontrol(\u001b[39mNone\u001b[39;49;00m, max_ev, timeout)\n\u001b[1;32m    563\u001b[0m \u001b[39mexcept\u001b[39;00m \u001b[39mInterruptedError\u001b[39;00m:\n\u001b[1;32m    564\u001b[0m     \u001b[39mreturn\u001b[39;00m ready\n",
      "\u001b[0;31mKeyboardInterrupt\u001b[0m: "
     ]
    }
   ],
   "source": [
    "# with open('..\\domain_map.json', 'r', encoding='utf-8') as domain_map:\n",
    "with open('./domain_map.json', 'r', encoding='utf-8') as domain_map:\n",
    "    domain_map_data = json.load(domain_map)\n",
    "\n",
    "gov_cname_records = []\n",
    "news_cname_records = []\n",
    "for gov_first_party_subdomain in first_party_subdomains_gov:\n",
    "    try:\n",
    "        answers = dns.resolver.resolve(gov_first_party_subdomain, 'CNAME')\n",
    "        for rdata in answers:\n",
    "            cname_record = rdata.target.to_text().rstrip(\".\")\n",
    "            try:\n",
    "                extracted = tldextract.extract(cname_record)\n",
    "                main_domain = f\"{extracted.domain}.{extracted.suffix}\"\n",
    "                cname_entity = domain_map_data[main_domain]['entityName']\n",
    "            except:\n",
    "                print(\"domain not found: \" + cname_record)\n",
    "                cname_entity = \"\"\n",
    "            gov_cname_records.append((gov_first_party_subdomain, cname_record, cname_entity))\n",
    "    except Exception as e:\n",
    "        print(f\"DNS error: {e}\")\n",
    "\n",
    "for news_first_party_subdomain in first_party_subdomains_gov:\n",
    "    try:\n",
    "        answers = dns.resolver.resolve(news_first_party_subdomain, 'CNAME')\n",
    "        for rdata in answers:\n",
    "            cname_record = rdata.target.to_text().rstrip(\".\")\n",
    "            try:\n",
    "                extracted = tldextract.extract(cname_record)\n",
    "                main_domain = f\"{extracted.domain}.{extracted.suffix}\"\n",
    "                cname_entity = domain_map_data[main_domain]['entityName']\n",
    "            except:\n",
    "                print(\"domain not found: \" + cname_record)\n",
    "                cname_entity = \"\"\n",
    "            news_cname_records.append((news_first_party_subdomain, cname_record, cname_entity))\n",
    "    except Exception as e:\n",
    "        print(f\"DNS error: {e}\")"
   ]
  },
  {
   "cell_type": "code",
   "execution_count": 27,
   "metadata": {},
   "outputs": [
    {
     "data": {
      "text/html": [
       "<style type=\"text/css\">\n",
       "</style>\n",
       "<table id=\"T_2fac0\">\n",
       "  <thead>\n",
       "    <tr>\n",
       "      <th id=\"T_2fac0_level0_col0\" class=\"col_heading level0 col0\" >First-party subdomain</th>\n",
       "      <th id=\"T_2fac0_level0_col1\" class=\"col_heading level0 col1\" >CNAME record</th>\n",
       "      <th id=\"T_2fac0_level0_col2\" class=\"col_heading level0 col2\" >CNAME entity</th>\n",
       "    </tr>\n",
       "  </thead>\n",
       "  <tbody>\n",
       "  </tbody>\n",
       "</table>\n"
      ],
      "text/plain": [
       "<pandas.io.formats.style.Styler at 0x16e7876d0>"
      ]
     },
     "metadata": {},
     "output_type": "display_data"
    },
    {
     "data": {
      "text/html": [
       "<style type=\"text/css\">\n",
       "</style>\n",
       "<table id=\"T_a57ae\">\n",
       "  <thead>\n",
       "    <tr>\n",
       "      <th id=\"T_a57ae_level0_col0\" class=\"col_heading level0 col0\" >First-party subdomain</th>\n",
       "      <th id=\"T_a57ae_level0_col1\" class=\"col_heading level0 col1\" >CNAME record</th>\n",
       "      <th id=\"T_a57ae_level0_col2\" class=\"col_heading level0 col2\" >CNAME entity</th>\n",
       "    </tr>\n",
       "  </thead>\n",
       "  <tbody>\n",
       "  </tbody>\n",
       "</table>\n"
      ],
      "text/plain": [
       "<pandas.io.formats.style.Styler at 0x16e787010>"
      ]
     },
     "metadata": {},
     "output_type": "display_data"
    }
   ],
   "source": [
    "gov_cname_data = {\n",
    "    'First-party subdomain': [cname_record[0] for cname_record in gov_cname_records],\n",
    "    'CNAME record': [cname_record[1] for cname_record in gov_cname_records],\n",
    "    'CNAME entity': [cname_record[2] for cname_record in gov_cname_records]\n",
    "}\n",
    "gov_cname_df = pd.DataFrame(gov_cname_data)\n",
    "display(gov_cname_df.style.hide(axis='index'))\n",
    "\n",
    "news_cname_data = {\n",
    "    'First-party subdomain': [cname_record[0] for cname_record in news_cname_records],\n",
    "    'CNAME record': [cname_record[1] for cname_record in news_cname_records],\n",
    "    'CNAME entity': [cname_record[2] for cname_record in news_cname_records]\n",
    "}\n",
    "news_cname_df = pd.DataFrame(news_cname_data)\n",
    "display(news_cname_df.style.hide(axis='index'))"
   ]
  },
  {
   "cell_type": "code",
   "execution_count": null,
   "metadata": {},
   "outputs": [],
   "source": []
  }
 ],
 "metadata": {
  "kernelspec": {
   "display_name": "Python 3.10.10 ('venv': venv)",
   "language": "python",
   "name": "python3"
  },
  "language_info": {
   "codemirror_mode": {
    "name": "ipython",
    "version": 3
   },
   "file_extension": ".py",
   "mimetype": "text/x-python",
   "name": "python",
   "nbconvert_exporter": "python",
   "pygments_lexer": "ipython3",
   "version": "3.10.10"
  },
  "orig_nbformat": 4,
  "vscode": {
   "interpreter": {
    "hash": "18d786a7e5bef1edc9c290e74b0843b8b0a408963e1315e985c163de81dec61e"
   }
  }
 },
 "nbformat": 4,
 "nbformat_minor": 2
}
