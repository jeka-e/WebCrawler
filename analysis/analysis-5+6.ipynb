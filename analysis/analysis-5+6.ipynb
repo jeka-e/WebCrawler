{
 "cells": [
  {
   "cell_type": "code",
   "execution_count": 1,
   "metadata": {},
   "outputs": [],
   "source": [
    "import os\n",
    "import json\n",
    "from tld import get_fld\n",
    "from urllib.parse import urlparse\n",
    "import seaborn as sns\n",
    "import matplotlib.pyplot as plt"
   ]
  },
  {
   "cell_type": "code",
   "execution_count": null,
   "metadata": {},
   "outputs": [],
   "source": [
    "GOV_DIR = '../crawl_data_gov'\n",
    "NEWS_DIR = '../crawl_data_news'\n",
    "EXT = 'har'\n",
    "\n",
    "for file in os.listdir(NEWS_DIR):\n",
    "    if file.endswith(EXT):\n",
    "        with open('..\\crawl_data_news\\\\' + file, 'r', encoding='utf-8') as har_file:\n",
    "            har_data = json.load(har_file)\n",
    "            entries = har_data['log']['entries']\n",
    "            main_domain = file.split('_')[0]\n",
    "            "
   ]
  },
  {
   "cell_type": "code",
   "execution_count": null,
   "metadata": {},
   "outputs": [],
   "source": []
  }
 ],
 "metadata": {
  "kernelspec": {
   "display_name": "Python 3.10.10 ('venv': venv)",
   "language": "python",
   "name": "python3"
  },
  "language_info": {
   "codemirror_mode": {
    "name": "ipython",
    "version": 3
   },
   "file_extension": ".py",
   "mimetype": "text/x-python",
   "name": "python",
   "nbconvert_exporter": "python",
   "pygments_lexer": "ipython3",
   "version": "3.10.10"
  },
  "orig_nbformat": 4,
  "vscode": {
   "interpreter": {
    "hash": "18d786a7e5bef1edc9c290e74b0843b8b0a408963e1315e985c163de81dec61e"
   }
  }
 },
 "nbformat": 4,
 "nbformat_minor": 2
}
