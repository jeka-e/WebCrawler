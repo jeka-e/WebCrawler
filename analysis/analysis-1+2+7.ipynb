{
 "cells": [
  {
   "cell_type": "code",
   "execution_count": null,
   "metadata": {},
   "outputs": [],
   "source": []
  },
  {
   "cell_type": "markdown",
   "metadata": {},
   "source": [
    "1. Compare data from the two crawls using a series of box plots, where X axis is the crawl\n",
    "name (Crawl-news, Crawl-gov), and Y axis is one of the metrics given in (a) to (d). For\n",
    "instance, the box plot for Number of requests will be based on the distribution of number of\n",
    "requests per website in each crawl. Create a separate box plot for each of the following\n",
    "metrics, as shown in the example figure below:\n",
    "a. Page load time (based on load event)\n",
    "b. Number of requests per website\n",
    "c. Number of third-party requests per website\n",
    "d. Number of distinct third-party domains per website"
   ]
  },
  {
   "cell_type": "code",
   "execution_count": 7,
   "metadata": {},
   "outputs": [],
   "source": [
    "!pip3 install seaborn -q\n",
    "!pip3 install tld -q\n",
    "!pip3 install"
   ]
  },
  {
   "cell_type": "code",
   "execution_count": 20,
   "metadata": {},
   "outputs": [],
   "source": [
    "import os\n",
    "import json\n",
    "from urllib.parse import urlparse\n",
    "import seaborn as sns\n",
    "import matplotlib.pyplot as plt\n",
    "from collections import Counter\n",
    "from tld import get_fld\n",
    "import pandas as pd\n"
   ]
  },
  {
   "cell_type": "code",
   "execution_count": 66,
   "metadata": {},
   "outputs": [],
   "source": [
    "def create_boxplot(data, title, x_label, y_label, x_ticks=[\"Government\", \"News\"], filename=\"boxplot.png\"):\n",
    "    sns.set(style=\"whitegrid\")\n",
    "    ax = sns.boxplot(data=data)\n",
    "    ax.set_title(title)\n",
    "    ax.set_xlabel(x_label)\n",
    "    ax.set_xticklabels(x_ticks)\n",
    "    ax.set_ylabel(y_label)\n",
    "    plt.savefig(f'boxplots/{filename}')\n",
    "    plt.show()"
   ]
  },
  {
   "cell_type": "code",
   "execution_count": null,
   "metadata": {},
   "outputs": [],
   "source": [
    "with open('crawl_data_gov_times') as f:\n",
    "    times_gov_dict = json.load(f)\n",
    "\n",
    "with open('crawl_data_news_times') as f:\n",
    "    times_news_dict = json.load(f)\n",
    "\n",
    "times_gov_list = [dict_val for dict_val in times_gov_dict.values()]\n",
    "times_news_list = [dict_val for dict_val in times_news_dict.values()]\n",
    "print(times_gov_list)\n",
    "print(times_news_list)\n",
    "\n",
    "sns.set(rc={'figure.figsize': (10, 10)})\n",
    "\n",
    "create_boxplot([times_gov_list, times_news_list], \"Loading Time of Government and News Websites\", \"Website Type\", \"Loading Time (s)\", filename=\"gov_news_loading_time.png\")\n",
    "\n"
   ]
  },
  {
   "cell_type": "code",
   "execution_count": 24,
   "metadata": {},
   "outputs": [],
   "source": [
    "# gov_dir = '..\\crawl_data_gov'\n",
    "# news_dir = '..\\crawl_data_news'\n",
    "gov_dir = '../crawl_data_gov'\n",
    "news_dir = '../crawl_data_news'\n",
    "ext = 'har'\n",
    "num_requests_gov = []\n",
    "num_requests_news = []\n",
    "num_third_party_requests_gov = []\t\n",
    "num_third_party_requests_news = []\n",
    "num_third_party_domains_gov = []\n",
    "num_third_party_domains_news = []\n",
    "client_hints_gov = []\n",
    "client_hints_news = []\n",
    "\n",
    "def get_third_party_domain_counts(entries, gov_domain):\n",
    "    distinct_third_party_domains = {}\n",
    "    num_third_party_requests = 0\n",
    "    for entry in entries:\n",
    "        url = entry['request']['url']\n",
    "        hostname = urlparse(url).hostname\n",
    "        if hostname and gov_domain not in hostname:\n",
    "            num_third_party_requests += 1\n",
    "            tld_1 = get_fld(url)\n",
    "            if tld_1 not in distinct_third_party_domains:\n",
    "                distinct_third_party_domains[tld_1] = 0\n",
    "            else: \n",
    "                distinct_third_party_domains[tld_1] += 1\n",
    "    return num_third_party_requests, distinct_third_party_domains\n",
    "\n",
    "def get_accept_ch_header_requests(entries):\n",
    "    accept_ch_hints = {}\n",
    "    visited_hints_in_website = []\n",
    "    for entry in entries:\n",
    "        headers = entry['response']['headers']\n",
    "        for header in headers:\n",
    "            if header['name'] == 'accept-ch':\n",
    "                client_hints = header['value'].split(',')\n",
    "                for hint in client_hints:\n",
    "                    hint = hint.strip()\n",
    "                    if hint in visited_hints_in_website:\n",
    "                        continue\n",
    "                    accept_ch_hints[hint] = accept_ch_hints.get(hint, 0) + 1\n",
    "                    visited_hints_in_website.append(hint)\n",
    "    return accept_ch_hints\n",
    "\n",
    "all_third_party_entries_gov = {}\n",
    "for file in os.listdir(gov_dir):\n",
    "    if file.endswith(ext):\n",
    "        with open(gov_dir + '/' + file, 'r', encoding='utf-8') as har_file:\n",
    "            har_data = json.load(har_file)\n",
    "            entries = har_data['log']['entries']\n",
    "\n",
    "            num_requests = len(entries)\n",
    "            num_requests_gov.append(num_requests)\n",
    "\n",
    "            num_third_party_requests, distinct_third_party_domains = get_third_party_domain_counts(entries, file.split('.')[0])\n",
    "            # num_third_party_requests_gov.append(num_third_party_requests)\n",
    "            # num_third_party_domains_gov.append(len(distinct_third_party_domains))\n",
    "\n",
    "            # client_hints = get_accept_ch_header_requests(entries)\n",
    "            # client_hints_gov.append(client_hints)\n",
    "\n",
    "            # 3 - count most prevalent 3rd party domains\n",
    "            all_third_party_entries_gov = dict(Counter(all_third_party_entries_gov) + Counter(distinct_third_party_domains))                \n",
    "    else:\n",
    "        continue\n",
    "\n",
    "all_third_party_entries_news = {}\n",
    "for file in os.listdir(news_dir):\n",
    "    if file.endswith(ext):\n",
    "        with open(news_dir + '/' + file, 'r', encoding='utf-8') as har_file:\n",
    "            har_data = json.load(har_file)\n",
    "            entries = har_data['log']['entries']\n",
    "\n",
    "            num_requests = len(entries)\n",
    "            num_requests_news.append(num_requests)\n",
    "\n",
    "            num_third_party_requests, distinct_third_party_domains = get_third_party_domain_counts(entries, file.split('.')[0])\n",
    "            # num_third_party_requests_news.append(num_third_party_requests)\n",
    "            # num_third_party_domains_news.append(len(distinct_third_party_domains))\n",
    "\n",
    "            # client_hints = get_accept_ch_header_requests(entries)\n",
    "            # client_hints_news.append(client_hints)\n",
    "\n",
    "            # 3 - count most prevalent 3rd party domains\n",
    "            all_third_party_entries_news = dict(Counter(all_third_party_entries_news) + Counter(distinct_third_party_domains))   \n",
    "\n",
    "    else:\n",
    "        continue\n"
   ]
  },
  {
   "cell_type": "markdown",
   "metadata": {},
   "source": [
    "# 3 - prevalent third-party domains and if they are trackers"
   ]
  },
  {
   "cell_type": "code",
   "execution_count": null,
   "metadata": {},
   "outputs": [],
   "source": [
    "# 3 - table for most prevalent domains + isTracker\n",
    "def get_tracking_domains_list():\n",
    "    with open('disconnect-tracking-services.json', 'r') as f:\n",
    "        tracking_services = json.load(f)\n",
    "\n",
    "    all_tracker_domains = set()\n",
    "    for category in tracking_services['categories'].values():\n",
    "        for org in category:\n",
    "            for url in org.values():\n",
    "                for domains in url.values():\n",
    "                    all_tracker_domains.update(domains)\n",
    "    return list(all_tracker_domains)\n",
    "\n",
    "\n",
    "TRACKING_DOMAINS = get_tracking_domains_list()\n",
    "\n",
    "def prevalent_tracker_domains_table(third_party_entries):\n",
    "    data = {\n",
    "        'Third-party domain': list(third_party_entries.keys()), \n",
    "        'Number of distinct websites': list(third_party_entries.values()),    \n",
    "    }\n",
    "    table = pd.DataFrame(data)\n",
    "    table = table.sort_values(by=['Number of distinct websites'], ascending=False, ignore_index=True)\n",
    "    table['isTracker'] = table['Third-party domain'].apply(lambda x: True if x in TRACKING_DOMAINS else False)\n",
    "    return table[:10]"
   ]
  },
  {
   "cell_type": "code",
   "execution_count": 35,
   "metadata": {},
   "outputs": [
    {
     "data": {
      "text/html": [
       "<div>\n",
       "<style scoped>\n",
       "    .dataframe tbody tr th:only-of-type {\n",
       "        vertical-align: middle;\n",
       "    }\n",
       "\n",
       "    .dataframe tbody tr th {\n",
       "        vertical-align: top;\n",
       "    }\n",
       "\n",
       "    .dataframe thead th {\n",
       "        text-align: right;\n",
       "    }\n",
       "</style>\n",
       "<table border=\"1\" class=\"dataframe\">\n",
       "  <thead>\n",
       "    <tr style=\"text-align: right;\">\n",
       "      <th></th>\n",
       "      <th>Third-party domain</th>\n",
       "      <th>Number of distinct websites</th>\n",
       "      <th>isTracker</th>\n",
       "    </tr>\n",
       "  </thead>\n",
       "  <tbody>\n",
       "    <tr>\n",
       "      <th>0</th>\n",
       "      <td>googlesyndication.com</td>\n",
       "      <td>1228</td>\n",
       "      <td>True</td>\n",
       "    </tr>\n",
       "    <tr>\n",
       "      <th>1</th>\n",
       "      <td>doubleclick.net</td>\n",
       "      <td>839</td>\n",
       "      <td>True</td>\n",
       "    </tr>\n",
       "    <tr>\n",
       "      <th>2</th>\n",
       "      <td>2mdn.net</td>\n",
       "      <td>575</td>\n",
       "      <td>True</td>\n",
       "    </tr>\n",
       "    <tr>\n",
       "      <th>3</th>\n",
       "      <td>taboola.com</td>\n",
       "      <td>473</td>\n",
       "      <td>True</td>\n",
       "    </tr>\n",
       "    <tr>\n",
       "      <th>4</th>\n",
       "      <td>pubmatic.com</td>\n",
       "      <td>413</td>\n",
       "      <td>True</td>\n",
       "    </tr>\n",
       "    <tr>\n",
       "      <th>5</th>\n",
       "      <td>rubiconproject.com</td>\n",
       "      <td>362</td>\n",
       "      <td>True</td>\n",
       "    </tr>\n",
       "    <tr>\n",
       "      <th>6</th>\n",
       "      <td>amazon-adsystem.com</td>\n",
       "      <td>308</td>\n",
       "      <td>True</td>\n",
       "    </tr>\n",
       "    <tr>\n",
       "      <th>7</th>\n",
       "      <td>adnxs.com</td>\n",
       "      <td>270</td>\n",
       "      <td>True</td>\n",
       "    </tr>\n",
       "    <tr>\n",
       "      <th>8</th>\n",
       "      <td>casalemedia.com</td>\n",
       "      <td>251</td>\n",
       "      <td>True</td>\n",
       "    </tr>\n",
       "    <tr>\n",
       "      <th>9</th>\n",
       "      <td>yimg.com</td>\n",
       "      <td>234</td>\n",
       "      <td>True</td>\n",
       "    </tr>\n",
       "  </tbody>\n",
       "</table>\n",
       "</div>"
      ],
      "text/plain": [
       "      Third-party domain  Number of distinct websites  isTracker\n",
       "0  googlesyndication.com                         1228       True\n",
       "1        doubleclick.net                          839       True\n",
       "2               2mdn.net                          575       True\n",
       "3            taboola.com                          473       True\n",
       "4           pubmatic.com                          413       True\n",
       "5     rubiconproject.com                          362       True\n",
       "6    amazon-adsystem.com                          308       True\n",
       "7              adnxs.com                          270       True\n",
       "8        casalemedia.com                          251       True\n",
       "9               yimg.com                          234       True"
      ]
     },
     "execution_count": 35,
     "metadata": {},
     "output_type": "execute_result"
    }
   ],
   "source": [
    "prevalent_tracker_domains_table(all_third_party_entries_news)\n"
   ]
  },
  {
   "cell_type": "code",
   "execution_count": 36,
   "metadata": {},
   "outputs": [
    {
     "data": {
      "text/html": [
       "<div>\n",
       "<style scoped>\n",
       "    .dataframe tbody tr th:only-of-type {\n",
       "        vertical-align: middle;\n",
       "    }\n",
       "\n",
       "    .dataframe tbody tr th {\n",
       "        vertical-align: top;\n",
       "    }\n",
       "\n",
       "    .dataframe thead th {\n",
       "        text-align: right;\n",
       "    }\n",
       "</style>\n",
       "<table border=\"1\" class=\"dataframe\">\n",
       "  <thead>\n",
       "    <tr style=\"text-align: right;\">\n",
       "      <th></th>\n",
       "      <th>Third-party domain</th>\n",
       "      <th>Number of distinct websites</th>\n",
       "      <th>isTracker</th>\n",
       "    </tr>\n",
       "  </thead>\n",
       "  <tbody>\n",
       "    <tr>\n",
       "      <th>0</th>\n",
       "      <td>rijksoverheid.nl</td>\n",
       "      <td>20</td>\n",
       "      <td>False</td>\n",
       "    </tr>\n",
       "    <tr>\n",
       "      <th>1</th>\n",
       "      <td>piwik.pro</td>\n",
       "      <td>16</td>\n",
       "      <td>False</td>\n",
       "    </tr>\n",
       "    <tr>\n",
       "      <th>2</th>\n",
       "      <td>siteimproveanalytics.io</td>\n",
       "      <td>16</td>\n",
       "      <td>False</td>\n",
       "    </tr>\n",
       "    <tr>\n",
       "      <th>3</th>\n",
       "      <td>abtasty.com</td>\n",
       "      <td>15</td>\n",
       "      <td>False</td>\n",
       "    </tr>\n",
       "    <tr>\n",
       "      <th>4</th>\n",
       "      <td>gstatic.com</td>\n",
       "      <td>10</td>\n",
       "      <td>True</td>\n",
       "    </tr>\n",
       "    <tr>\n",
       "      <th>5</th>\n",
       "      <td>uwv.nl</td>\n",
       "      <td>7</td>\n",
       "      <td>False</td>\n",
       "    </tr>\n",
       "    <tr>\n",
       "      <th>6</th>\n",
       "      <td>cookiebot.com</td>\n",
       "      <td>7</td>\n",
       "      <td>False</td>\n",
       "    </tr>\n",
       "    <tr>\n",
       "      <th>7</th>\n",
       "      <td>mopinion.com</td>\n",
       "      <td>6</td>\n",
       "      <td>False</td>\n",
       "    </tr>\n",
       "    <tr>\n",
       "      <th>8</th>\n",
       "      <td>google-analytics.com</td>\n",
       "      <td>5</td>\n",
       "      <td>True</td>\n",
       "    </tr>\n",
       "    <tr>\n",
       "      <th>9</th>\n",
       "      <td>readspeaker.com</td>\n",
       "      <td>4</td>\n",
       "      <td>False</td>\n",
       "    </tr>\n",
       "  </tbody>\n",
       "</table>\n",
       "</div>"
      ],
      "text/plain": [
       "        Third-party domain  Number of distinct websites  isTracker\n",
       "0         rijksoverheid.nl                           20      False\n",
       "1                piwik.pro                           16      False\n",
       "2  siteimproveanalytics.io                           16      False\n",
       "3              abtasty.com                           15      False\n",
       "4              gstatic.com                           10       True\n",
       "5                   uwv.nl                            7      False\n",
       "6            cookiebot.com                            7      False\n",
       "7             mopinion.com                            6      False\n",
       "8     google-analytics.com                            5       True\n",
       "9          readspeaker.com                            4      False"
      ]
     },
     "execution_count": 36,
     "metadata": {},
     "output_type": "execute_result"
    }
   ],
   "source": [
    "prevalent_tracker_domains_table(all_third_party_entries_gov)\n"
   ]
  },
  {
   "cell_type": "code",
   "execution_count": 69,
   "metadata": {},
   "outputs": [
    {
     "name": "stderr",
     "output_type": "stream",
     "text": [
      "C:\\Users\\lukev\\AppData\\Local\\Temp\\ipykernel_29572\\3333070040.py:6: UserWarning: set_ticklabels() should only be used with a fixed number of ticks, i.e. after set_ticks() or using a FixedLocator.\n",
      "  ax.set_xticklabels(x_ticks)\n"
     ]
    },
    {
     "data": {
      "image/png": "[encoded data removed]",
      "text/plain": [
       "<Figure size 1000x1000 with 1 Axes>"
      ]
     },
     "metadata": {},
     "output_type": "display_data"
    }
   ],
   "source": [
    "create_boxplot([num_requests_gov, num_requests_news], \"Number of Requests of Government and News Websites\", \"Website Type\", \"Number of Requests\", filename=\"gov_news_requests.png\")"
   ]
  },
  {
   "cell_type": "code",
   "execution_count": 70,
   "metadata": {},
   "outputs": [
    {
     "name": "stderr",
     "output_type": "stream",
     "text": [
      "C:\\Users\\lukev\\AppData\\Local\\Temp\\ipykernel_29572\\3333070040.py:6: UserWarning: set_ticklabels() should only be used with a fixed number of ticks, i.e. after set_ticks() or using a FixedLocator.\n",
      "  ax.set_xticklabels(x_ticks)\n"
     ]
    },
    {
     "data": {
      "image/png": "[encoded data removed]",
      "text/plain": [
       "<Figure size 1000x1000 with 1 Axes>"
      ]
     },
     "metadata": {},
     "output_type": "display_data"
    }
   ],
   "source": [
    "create_boxplot([num_third_party_requests_gov, num_third_party_requests_news], \"Number of Third Party Requests of Government and News Websites\", \"Website Type\", \"Number of Third Party Requests\", filename=\"gov_news_third_party_requests.png\")"
   ]
  },
  {
   "cell_type": "code",
   "execution_count": 71,
   "metadata": {},
   "outputs": [
    {
     "name": "stderr",
     "output_type": "stream",
     "text": [
      "C:\\Users\\lukev\\AppData\\Local\\Temp\\ipykernel_29572\\3333070040.py:6: UserWarning: set_ticklabels() should only be used with a fixed number of ticks, i.e. after set_ticks() or using a FixedLocator.\n",
      "  ax.set_xticklabels(x_ticks)\n"
     ]
    },
    {
     "data": {
      "image/png": "[encoded data removed]",
      "text/plain": [
       "<Figure size 1000x1000 with 1 Axes>"
      ]
     },
     "metadata": {},
     "output_type": "display_data"
    }
   ],
   "source": [
    "create_boxplot([num_third_party_domains_gov, num_third_party_domains_news], \"Number of Third Party Domains of Government and News Websites\", \"Website Type\", \"Number of Third Party Domains\", filename=\"gov_news_third_party_domains.png\")"
   ]
  },
  {
   "cell_type": "code",
   "execution_count": 72,
   "metadata": {},
   "outputs": [
    {
     "name": "stdout",
     "output_type": "stream",
     "text": [
      "[500, 1062, 522, 665, 1861, 963, 1154, 645, 1668, 379, 720, 668, 246, 371, 284, 751, 967, 738, 596, 1286]\n",
      "[37, 85, 70, 100, 162, 54, 37, 85, 57, 72, 24, 26, 38, 54, 37, 27, 27, 57, 83, 30]\n",
      "[266, 860, 284, 472, 1420, 689, 1029, 563, 1627, 134, 521, 457, 24, 306, 187, 610, 956, 605, 399, 957]\n",
      "[5, 11, 8, 0, 32, 14, 7, 21, 0, 21, 1, 10, 6, 14, 17, 0, 8, 1, 3, 13]\n",
      "[52, 155, 70, 120, 204, 182, 192, 150, 255, 44, 119, 120, 12, 57, 23, 163, 150, 148, 125, 138]\n",
      "[2, 4, 4, 0, 9, 8, 1, 11, 0, 6, 1, 2, 3, 8, 1, 0, 1, 1, 3, 7]\n"
     ]
    }
   ],
   "source": [
    "print(num_requests_news)\n",
    "print(num_requests_gov)\n",
    "\n",
    "print(num_third_party_requests_news)\n",
    "print(num_third_party_requests_gov)\n",
    "\n",
    "print(num_third_party_domains_news)\n",
    "print(num_third_party_domains_gov)\n"
   ]
  },
  {
   "cell_type": "code",
   "execution_count": 73,
   "metadata": {},
   "outputs": [
    {
     "name": "stdout",
     "output_type": "stream",
     "text": [
      "Metric: loading_time\n",
      "News:\n",
      "Min: 0.4088881015777588\n",
      "Median: 1.244267737865448\n",
      "Max: 3.8423259258270264\n",
      "Government:\n",
      "Min: 0.2826869487762451\n",
      "Median: 0.887889814376831\n",
      "Max: 4.913503885269165\n",
      "Metric: num_requests\n",
      "News:\n",
      "Min: 246\n",
      "Median: 802.3\n",
      "Max: 1861\n",
      "Government:\n",
      "Min: 24\n",
      "Median: 58.1\n",
      "Max: 162\n",
      "Metric: num_third_party_requests\n",
      "News:\n",
      "Min: 24\n",
      "Median: 618.3\n",
      "Max: 1627\n",
      "Government:\n",
      "Min: 0\n",
      "Median: 9.6\n",
      "Max: 32\n",
      "Metric: num_third_party_domains\n",
      "News:\n",
      "Min: 12\n",
      "Median: 123.95\n",
      "Max: 255\n",
      "Government:\n",
      "Min: 0\n",
      "Median: 3.6\n",
      "Max: 11\n"
     ]
    }
   ],
   "source": [
    "# Generate min, median, max values for each metric\n",
    "metrics = {\"loading_time\": [times_gov_list, times_news_list], \"num_requests\": [num_requests_gov, num_requests_news], \"num_third_party_requests\": [num_third_party_requests_gov, num_third_party_requests_news], \"num_third_party_domains\": [num_third_party_domains_gov, num_third_party_domains_news]}\n",
    "for metric, values in metrics.items():\n",
    "    print(f\"Metric: {metric}\")\n",
    "    print('News:')\n",
    "    print(f\"Min: {min(values[1])}\")\n",
    "    print(f\"Median: {sum(values[1]) / len(values[1])}\")\n",
    "    print(f\"Max: {max(values[1])}\")\n",
    "    print('Government:')\n",
    "    print(f\"Min: {min(values[0])}\")\n",
    "    print(f\"Median: {sum(values[0]) / len(values[0])}\")\n",
    "    print(f\"Max: {max(values[0])}\")"
   ]
  },
  {
   "cell_type": "markdown",
   "metadata": {},
   "source": [
    "| Metric                       | Min (News) | Median (News) | Max (News) | Min (Gov) | Median (Gov) | Max (Gov) |\n",
    "|------------------------------|------------|---------------|------------|-----------|--------------|-----------|\n",
    "| **Loading time (s)**         | 0.41       | 1.24          | 3.84       | 0.28      | 0.89         | 4.91      |\n",
    "| **Number of requests**       | 246        | 802.3         | 1861       | 24        | 58.1         | 162       |\n",
    "| **Number of third-party requests** | 24         | 618.3         | 1627       | 0         | 9.6          | 32        |\n",
    "| **Number of third-party domains**  | 12         | 123.95        | 255        | 0         | 3.6          | 11        |\n"
   ]
  },
  {
   "cell_type": "markdown",
   "metadata": {},
   "source": [
    "$$\n",
    "\\begin{array}{l|ccc|ccc}\n",
    "\\hline\n",
    "\\textbf{Metric} & \\textbf{Min (News)} & \\textbf{Median (News)} & \\textbf{Max (News)} & \\textbf{Min (Gov)} & \\textbf{Median (Gov)} & \\textbf{Max (Gov)} \\\\\n",
    "\\hline\n",
    "\\text{Loading time (s)} & 0.41 & 1.24 & 3.84 & 0.28 & 0.89 & 4.91 \\\\\n",
    "\\text{Number of requests} & 246 & 802.3 & 1861 & 24 & 58.1 & 162 \\\\\n",
    "\\text{Number of third-party requests} & 24 & 618.3 & 1627 & 0 & 9.6 & 32 \\\\\n",
    "\\text{Number of third-party domains} & 12 & 123.95 & 255 & 0 & 3.6 & 11 \\\\\n",
    "\\hline\n",
    "\\end{array}\n",
    "$$\n"
   ]
  },
  {
   "cell_type": "markdown",
   "metadata": {},
   "source": [
    "$$\n",
    "\\begin{array}{l|ccc|ccc}\n",
    "\\hline\n",
    "\\textbf{Metric} & \\multicolumn{3}{c|}{\\textbf{News}} & \\multicolumn{3}{c}{\\textbf{Government}} \\\\\n",
    "& \\textbf{Min} & \\textbf{Median} & \\textbf{Max} & \\textbf{Min} & \\textbf{Median} & \\textbf{Max} \\\\\n",
    "\\hline\n",
    "\\text{Loading time (s)} & 0.41 & 1.24 & 3.84 & 0.28 & 0.89 & 4.91 \\\\\n",
    "\\text{Number of requests} & 246 & 802.3 & 1861 & 24 & 58.1 & 162 \\\\\n",
    "\\text{Number of third-party requests} & 24 & 618.3 & 1627 & 0 & 9.6 & 32 \\\\\n",
    "\\text{Number of third-party domains} & 12 & 123.95 & 255 & 0 & 3.6 & 11 \\\\\n",
    "\\hline\n",
    "\\end{array}\n",
    "$$\n",
    "\n"
   ]
  },
  {
   "cell_type": "code",
   "execution_count": 122,
   "metadata": {},
   "outputs": [
    {
     "name": "stdout",
     "output_type": "stream",
     "text": [
      "['Sec-CH-UA-Arch', 'Sec-CH-UA-Bitness', 'Sec-CH-UA-Full-Version-List']\n",
      "{'Sec-CH-UA-Arch': 1, 'Sec-CH-UA-Bitness': 1, 'Sec-CH-UA-Full-Version-List': 1}\n",
      "{'Sec-CH-UA-Arch': 19, 'Sec-CH-UA-Bitness': 19, 'Sec-CH-UA-Full-Version-List': 19}\n"
     ]
    }
   ],
   "source": [
    "sorted_client_hints_news = {k: v for k, v in sorted(client_hints_news[0].items(), key=lambda item: item[1], reverse=True)}\n",
    "sorted_client_hints_gov = {k: v for k, v in sorted(client_hints_gov[0].items(), key=lambda item: item[1], reverse=True)}\n",
    "\n",
    "# Combine client hints from all websites\n",
    "all_client_hints_gov = {}\n",
    "for hints in client_hints_gov:\n",
    "    for hint, count in hints.items():\n",
    "        all_client_hints_gov[hint] = all_client_hints_gov.get(hint, 0) + count\n",
    "\n",
    "# Sort client hints by count\n",
    "sorted_all_client_hints_gov = {k: v for k, v in sorted(all_client_hints_gov.items(), key=lambda item: item[1], reverse=True)}\n",
    "\n",
    "all_client_hints_news = {}\n",
    "for hints in client_hints_news:\n",
    "    for hint, count in hints.items():\n",
    "        all_client_hints_news[hint] = all_client_hints_news.get(hint, 0) + count\n",
    "\n",
    "sorted_all_client_hints_news = {k: v for k, v in sorted(all_client_hints_news.items(), key=lambda item: item[1], reverse=True)}\n",
    "\n",
    "# Gov and news websites client hints combined\n",
    "all_client_hints = {}\n",
    "for hint, count in sorted_all_client_hints_gov.items():\n",
    "    all_client_hints[hint] = all_client_hints.get(hint, 0) + count\n",
    "\n",
    "for hint, count in sorted_all_client_hints_news.items():\n",
    "    all_client_hints[hint] = all_client_hints.get(hint, 0) + count\n",
    "\n",
    "sorted_all_client_hints = {k: v for k, v in sorted(all_client_hints.items(), key=lambda item: item[1], reverse=True)}\n",
    "\n",
    "# Get 3 most common client hints\n",
    "top_3_client_hints = list(sorted_all_client_hints.keys())[:3]\n",
    "print(top_3_client_hints)\n",
    "\n",
    "# Get counts for top 3 client hints\n",
    "top_3_client_hints_counts = []\n",
    "counts_gov = {}\n",
    "counts_news = {}\n",
    "for hint in top_3_client_hints: \n",
    "    counts_gov[hint] = sorted_all_client_hints_gov.get(hint, 0)\n",
    "    counts_news[hint] = sorted_all_client_hints_news.get(hint, 0)\n",
    "print(counts_gov)\n",
    "print(counts_news)\n"
   ]
  },
  {
   "cell_type": "markdown",
   "metadata": {},
   "source": [
    "| Client Hint                | Number of websites (Crawl-gov) | Number of websites (Crawl-news) |\n",
    "|----------------------------|---------------------------------|--------------------------------|\n",
    "| Sec-CH-UA-Full-Version-List | 1                               | 19                             |\n",
    "| Sec-CH-UA-Bitness          | 1                               | 19                             |\n",
    "| Sec-CH-UA-Arch             | 1                               | 19                             |\n"
   ]
  },
  {
   "cell_type": "markdown",
   "metadata": {},
   "source": [
    "$$\n",
    "\\begin{array}{l|c|c}\n",
    "\\hline\n",
    "\\text{Client Hint} & \\text{Number of websites (Crawl-gov)} & \\text{Number of websites (Crawl-news)} \\\\\n",
    "\\hline\n",
    "\\text{Sec-CH-UA-Full-Version-List} & 1 & 19 \\\\\n",
    "\\text{Sec-CH-UA-Bitness} & 1 & 19 \\\\\n",
    "\\text{Sec-CH-UA-Arch} & 1 & 19 \\\\\n",
    "\\hline\n",
    "\\end{array}\n",
    "$$\n"
   ]
  },
  {
   "cell_type": "markdown",
   "metadata": {},
   "source": [
    "\\begin{table}[h]\n",
    "    \\centering\n",
    "    \\begin{tabular}{l|c|c}\n",
    "        \\hline\n",
    "        Client Hint & Number of websites (Crawl-gov) & Number of websites (Crawl-news) \\\\\n",
    "        \\hline\n",
    "        Sec-CH-UA-Full-Version-List & 1 & 19 \\\\\n",
    "        Sec-CH-UA-Bitness & 1 & 19 \\\\\n",
    "        Sec-CH-UA-Arch & 1 & 19 \\\\\n",
    "        \\hline\n",
    "    \\end{tabular}\n",
    "    \\caption{Client Hints comparison between Crawl-news and Crawl-gov (Reversed Order)}\n",
    "    \\label{tab:client_hints_updated}\n",
    "\\end{table}\n"
   ]
  }
 ],
 "metadata": {
  "kernelspec": {
   "display_name": "Python 3.10.10 ('venv': venv)",
   "language": "python",
   "name": "python3"
  },
  "language_info": {
   "codemirror_mode": {
    "name": "ipython",
    "version": 3
   },
   "file_extension": ".py",
   "mimetype": "text/x-python",
   "name": "python",
   "nbconvert_exporter": "python",
   "pygments_lexer": "ipython3",
   "version": "3.10.10"
  },
  "vscode": {
   "interpreter": {
    "hash": "18d786a7e5bef1edc9c290e74b0843b8b0a408963e1315e985c163de81dec61e"
   }
  }
 },
 "nbformat": 4,
 "nbformat_minor": 2
}
